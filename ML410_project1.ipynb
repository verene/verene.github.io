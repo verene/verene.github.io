{
 "cells": [
  {
   "cell_type": "markdown",
   "metadata": {},
   "source": [
    "# Project 1: Prediction of Ellensburg ASOS hourly wind speed"
   ]
  },
  {
   "cell_type": "markdown",
   "metadata": {},
   "source": [
    "## Baseline Model: One-hour horizon, \"onsite\" Ellensburg ASOS data only"
   ]
  },
  {
   "cell_type": "code",
   "execution_count": 1,
   "metadata": {
    "collapsed": false
   },
   "outputs": [
    {
     "name": "stdout",
     "output_type": "stream",
     "text": [
      "                    station   tmpf   dwpf   relh   drct   sknt   p01i   alti  \\\n",
      "valid                                                                          \n",
      "2013-07-01 00:53:00     ELN  96.98  55.94  25.51  100.0    8.0    0.0  29.96   \n",
      "2013-07-01 00:55:00     EAT  93.92  48.92  21.64  110.0    3.0    0.0  29.93   \n",
      "2013-07-01 01:53:00     ELN  95.00  57.02  28.18   80.0    6.0    0.0  29.96   \n",
      "2013-07-01 01:55:00     EAT  93.02  51.08  24.12  120.0    4.0    0.0  29.92   \n",
      "2013-07-01 02:53:00     ELN  89.06  60.08  37.85   90.0    6.0    0.0  29.95   \n",
      "\n",
      "                       mslp   vsby  \n",
      "valid                               \n",
      "2013-07-01 00:53:00  1013.0   10.0  \n",
      "2013-07-01 00:55:00  1012.4   10.0  \n",
      "2013-07-01 01:53:00  1012.7   10.0  \n",
      "2013-07-01 01:55:00  1012.2   10.0  \n",
      "2013-07-01 02:53:00  1012.8   10.0  \n",
      "                    station   tmpf   dwpf   relh   drct   sknt   p01i   alti  \\\n",
      "valid                                                                          \n",
      "2016-06-30 23:50:00     ELN  82.40  41.00  23.07    NaN    NaN    NaN  29.98   \n",
      "2016-06-30 23:53:00     ELN  82.04  39.92  22.38  310.0   25.0    0.0  29.98   \n",
      "2016-06-30 23:55:00     EAT  91.94  37.94  15.11  300.0   13.0    0.0  29.90   \n",
      "2016-06-30 23:55:00     ELN  82.40  39.20  21.51    NaN    NaN    NaN  29.98   \n",
      "2016-06-30 23:56:00     SMP  60.08  48.02  64.35    NaN    6.0    0.0  30.19   \n",
      "\n",
      "                       mslp   vsby  \n",
      "valid                               \n",
      "2016-06-30 23:50:00     NaN   10.0  \n",
      "2016-06-30 23:53:00  1014.1   10.0  \n",
      "2016-06-30 23:55:00  1011.4   10.0  \n",
      "2016-06-30 23:55:00     NaN   10.0  \n",
      "2016-06-30 23:56:00  1021.3    NaN  \n"
     ]
    }
   ],
   "source": [
    "import numpy as np\n",
    "import pandas as pd\n",
    "from sklearn.svm import SVR\n",
    "from sklearn.grid_search import GridSearchCV\n",
    "from sklearn import metrics\n",
    "from sklearn.externals import joblib\n",
    "\n",
    "multiASOS = pd.read_csv(\"/Users/verene/Documents/UW-ML410/Project1/IEM_ASOS_multiyr_multisite.txt\",\n",
    "                        index_col=1, header=5, usecols=np.arange(0,11), parse_dates=True, na_values='M')\n",
    "multiASOS.apply(lambda x: pd.to_numeric(x, errors='ignore'))\n",
    "print multiASOS.head()\n",
    "print multiASOS.tail()\n",
    "#Stations: ELN: Ellensburg (target), EAT: Wenatchee/Pangborn, 1QW: Yakima Training, SMP: Stampede Pass"
   ]
  },
  {
   "cell_type": "code",
   "execution_count": 153,
   "metadata": {
    "collapsed": false
   },
   "outputs": [
    {
     "name": "stdout",
     "output_type": "stream",
     "text": [
      "(26304, 9) 26304\n",
      "2013-07-01 00:00:00 2013-07-01 00:00:00 2016-06-30 23:00:00 2016-06-30 23:00:00\n"
     ]
    }
   ],
   "source": [
    "# Data exploration\n",
    "#Save off Ellensburg ASOS for baseline model\n",
    "EburgASOS = multiASOS[multiASOS['station']=='ELN'].copy()\n",
    "#Regularize data into hourly means\n",
    "EburgASOS = EburgASOS.resample('H', closed='right', label='left').mean()\n",
    "\n",
    "#Determine the expected number of rows for the period of record and compare with actual\n",
    "dates = pd.date_range(EburgASOS.index[0], EburgASOS.index[-1]+np.timedelta64(seconds=3600), freq='H')\n",
    "print EburgASOS.shape, len(dates)\n",
    "#Make sure start and end dates match\n",
    "print dates[0], EburgASOS.index[0], dates[-1], EburgASOS.index[-1]"
   ]
  },
  {
   "cell_type": "code",
   "execution_count": 154,
   "metadata": {
    "collapsed": false
   },
   "outputs": [
    {
     "name": "stdout",
     "output_type": "stream",
     "text": [
      "valid\n",
      "2013-07-01 00:00:00    8.0\n",
      "2013-07-01 01:00:00    6.0\n",
      "2013-07-01 02:00:00    6.0\n",
      "2013-07-01 03:00:00    6.0\n",
      "2013-07-01 04:00:00    8.0\n",
      "Freq: H, Name: EburgTargetWS, dtype: float64\n",
      "                      tmpf   dwpf   relh   drct   sknt   p01i   alti    mslp  \\\n",
      "valid                                                                          \n",
      "2013-07-01 00:00:00  96.98  55.94  25.51  100.0    8.0    0.0  29.96  1013.0   \n",
      "2013-07-01 01:00:00  95.00  57.02  28.18   80.0    6.0    0.0  29.96  1012.7   \n",
      "2013-07-01 02:00:00  89.06  60.08  37.85   90.0    6.0    0.0  29.95  1012.8   \n",
      "2013-07-01 03:00:00  82.04  55.04  39.53   80.0    6.0    0.0  29.96  1013.0   \n",
      "2013-07-01 04:00:00  75.02  55.04  49.81   40.0    8.0    0.0  29.97  1013.6   \n",
      "\n",
      "                      vsby  \n",
      "valid                       \n",
      "2013-07-01 00:00:00   10.0  \n",
      "2013-07-01 01:00:00   10.0  \n",
      "2013-07-01 02:00:00   10.0  \n",
      "2013-07-01 03:00:00   10.0  \n",
      "2013-07-01 04:00:00   10.0  \n",
      "                      tmpf   dwpf   relh   drct   sknt   p01i   alti    mslp  \\\n",
      "valid                                                                          \n",
      "2013-07-01 02:00:00  96.98  55.94  25.51  100.0    8.0    0.0  29.96  1013.0   \n",
      "2013-07-01 03:00:00  95.00  57.02  28.18   80.0    6.0    0.0  29.96  1012.7   \n",
      "2013-07-01 04:00:00  89.06  60.08  37.85   90.0    6.0    0.0  29.95  1012.8   \n",
      "2013-07-01 05:00:00  82.04  55.04  39.53   80.0    6.0    0.0  29.96  1013.0   \n",
      "2013-07-01 06:00:00  75.02  55.04  49.81   40.0    8.0    0.0  29.97  1013.6   \n",
      "\n",
      "                      vsby  \n",
      "valid                       \n",
      "2013-07-01 02:00:00   10.0  \n",
      "2013-07-01 03:00:00   10.0  \n",
      "2013-07-01 04:00:00   10.0  \n",
      "2013-07-01 05:00:00   10.0  \n",
      "2013-07-01 06:00:00   10.0  \n"
     ]
    }
   ],
   "source": [
    "#No missing records, so...\n",
    "#Save off target\n",
    "EburgWS = pd.Series(EburgASOS[' sknt'].values, index=EburgASOS.index, name='EburgTargetWS')\n",
    "print EburgWS.head()\n",
    "#Create a single lag by shifting ASOS timestamp forward two places; timestamp is now two hours ahead of data\n",
    "print EburgASOS.head()\n",
    "lag=2 #hours\n",
    "EburgASOS.index = EburgASOS.index.shift(lag)\n",
    "print EburgASOS.head()"
   ]
  },
  {
   "cell_type": "code",
   "execution_count": 155,
   "metadata": {
    "collapsed": false
   },
   "outputs": [
    {
     "name": "stdout",
     "output_type": "stream",
     "text": [
      "                      tmpf   dwpf   relh   drct   sknt   p01i   alti    mslp  \\\n",
      "valid                                                                          \n",
      "2013-07-01 02:00:00  96.98  55.94  25.51  100.0    8.0    0.0  29.96  1013.0   \n",
      "2013-07-01 03:00:00  95.00  57.02  28.18   80.0    6.0    0.0  29.96  1012.7   \n",
      "2013-07-01 04:00:00  89.06  60.08  37.85   90.0    6.0    0.0  29.95  1012.8   \n",
      "2013-07-01 05:00:00  82.04  55.04  39.53   80.0    6.0    0.0  29.96  1013.0   \n",
      "2013-07-01 06:00:00  75.02  55.04  49.81   40.0    8.0    0.0  29.97  1013.6   \n",
      "\n",
      "                      vsby  EburgTargetWS  \n",
      "valid                                      \n",
      "2013-07-01 02:00:00   10.0            6.0  \n",
      "2013-07-01 03:00:00   10.0            6.0  \n",
      "2013-07-01 04:00:00   10.0            8.0  \n",
      "2013-07-01 05:00:00   10.0            3.0  \n",
      "2013-07-01 06:00:00   10.0            3.0  \n"
     ]
    }
   ],
   "source": [
    "#Join predictors and target again (this will also drop first two rows of EburgWS, and last two rows of EburgASOS)\n",
    "objs = [EburgASOS, EburgWS]\n",
    "EburgASOS = pd.concat(objs, join='inner', axis=1)\n",
    "print EburgASOS.head()"
   ]
  },
  {
   "cell_type": "code",
   "execution_count": 5,
   "metadata": {
    "collapsed": false
   },
   "outputs": [
    {
     "name": "stdout",
     "output_type": "stream",
     "text": [
      "tmpf              213\n",
      " dwpf             367\n",
      " relh             367\n",
      " drct            1237\n",
      " sknt             316\n",
      " p01i             157\n",
      " alti             153\n",
      " mslp             263\n",
      " vsby             653\n",
      "EburgTargetWS     316\n",
      "dtype: int64\n"
     ]
    }
   ],
   "source": [
    "#Examine number of missing records from each column\n",
    "print EburgASOS.isnull().sum(axis=0)"
   ]
  },
  {
   "cell_type": "code",
   "execution_count": 156,
   "metadata": {
    "collapsed": false
   },
   "outputs": [
    {
     "name": "stdout",
     "output_type": "stream",
     "text": [
      "(26302, 10)\n",
      "(24349, 10)\n",
      "                        tmpf     dwpf       relh        drct       sknt  \\\n",
      "valid                                                                     \n",
      "2016-06-30 19:00:00  75.3500  46.6850  36.190833  310.000000  20.166667   \n",
      "2016-06-30 20:00:00  79.1060  46.3640  31.558000  314.000000  21.400000   \n",
      "2016-06-30 21:00:00  81.6800  44.8700  27.420000  308.333333  19.666667   \n",
      "2016-06-30 22:00:00  82.4675  44.9825  26.833750  307.142857  19.857143   \n",
      "2016-06-30 23:00:00  84.1550  44.0150  24.482500  303.333333  21.666667   \n",
      "\n",
      "                      p01i      alti    mslp   vsby  EburgTargetWS  \n",
      "valid                                                               \n",
      "2016-06-30 19:00:00    0.0  30.05000  1016.3   10.0      19.666667  \n",
      "2016-06-30 20:00:00    0.0  30.04100  1016.1   10.0      19.857143  \n",
      "2016-06-30 21:00:00    0.0  30.03375  1015.6   10.0      21.666667  \n",
      "2016-06-30 22:00:00    0.0  30.02250  1015.2   10.0      20.125000  \n",
      "2016-06-30 23:00:00    0.0  30.01000  1014.9   10.0      22.500000  \n"
     ]
    }
   ],
   "source": [
    "#Drop rows with missing values\n",
    "print EburgASOS.shape\n",
    "EburgASOS.dropna(axis=0, inplace=True)\n",
    "print EburgASOS.shape\n",
    "print EburgASOS.tail()"
   ]
  },
  {
   "cell_type": "code",
   "execution_count": 7,
   "metadata": {
    "collapsed": false
   },
   "outputs": [
    {
     "name": "stdout",
     "output_type": "stream",
     "text": [
      "(16063, 10)\n",
      "16063\n"
     ]
    }
   ],
   "source": [
    "#Use first two years for training, third year for testing\n",
    "print EburgASOS[EburgASOS.index<'2015-07-01'].shape\n",
    "threshidx = EburgASOS[EburgASOS.index<'2015-07-01'].shape[0]\n",
    "print threshidx"
   ]
  },
  {
   "cell_type": "code",
   "execution_count": 8,
   "metadata": {
    "collapsed": false
   },
   "outputs": [
    {
     "name": "stdout",
     "output_type": "stream",
     "text": [
      "<type 'numpy.float32'>\n"
     ]
    }
   ],
   "source": [
    "#Split dataframe into X and y, train and test\n",
    "ws_train = EburgASOS.ix[:threshidx].as_matrix(['EburgTargetWS']).astype(np.float32)\n",
    "ws_test = EburgASOS.ix[threshidx:].as_matrix(['EburgTargetWS']).astype(np.float32)\n",
    "\n",
    "#Exclude target (and timestamp) from predictor matrix\n",
    "X_train = EburgASOS.ix[:threshidx].as_matrix(EburgASOS.columns[EburgASOS.columns != ('EburgTargetWS' or 'valid' or 'station')]).astype(np.float32)\n",
    "X_test = EburgASOS.ix[threshidx:].as_matrix(EburgASOS.columns[EburgASOS.columns != ('EburgTargetWS' or 'valid' or 'station')]).astype(np.float32)\n",
    "print type(ws_train[0][0])"
   ]
  },
  {
   "cell_type": "markdown",
   "metadata": {},
   "source": [
    "### BASELINE model"
   ]
  },
  {
   "cell_type": "code",
   "execution_count": 9,
   "metadata": {
    "collapsed": false
   },
   "outputs": [],
   "source": [
    "# Train baseline SVR\n",
    "baseParams = {'kernel':['rbf'], 'C':[0.01, 0.1, 1, 10, 100], 'gamma':[0.00001, 0.0001, 0.001, 0.01],\n",
    "              'epsilon':[0.01, 0.1, 0.2]}\n",
    "svrmodel = GridSearchCV(SVR(), baseParams, cv=5, iid=False)\n",
    "svrmodel.fit(X_train, np.ravel(ws_train))\n",
    "ws_hat = svrmodel.predict(X_test)\n",
    "\n",
    "# Calculate baseline performance metrics\n",
    "baseMAE = metrics.mean_absolute_error(np.ravel(ws_test), ws_hat)\n",
    "baseRMSE = np.sqrt(metrics.mean_squared_error(ws_test, ws_hat))\n",
    "baseBias = ws_hat.mean() - ws_test.mean()\n",
    "    #This seems like a generous way to calculate bias, but it seems to be the standard in my industry.\n",
    "print baseMAE, baseRMSE, baseBias, svrmodel.best_params_\n",
    "\n",
    "### 2.6514939934 3.61144114891 -0.185210889697 {'epsilon': 0.2, 'C': 10, 'gamma': 0.0001, 'kernel': 'rbf'}"
   ]
  },
  {
   "cell_type": "code",
   "execution_count": 10,
   "metadata": {
    "collapsed": false
   },
   "outputs": [],
   "source": [
    "#Save off trained model, so we don't have to train every time the scripts are run\n",
    "joblib.dump(svrmodel, 'baseline.pkl')\n",
    "\n",
    "#Load saved trained model when re-running\n",
    "#svrmodel = joblib.load('baseline.pkl')"
   ]
  },
  {
   "cell_type": "markdown",
   "metadata": {},
   "source": [
    "## Multi-lagged Model"
   ]
  },
  {
   "cell_type": "code",
   "execution_count": 157,
   "metadata": {
    "collapsed": false
   },
   "outputs": [
    {
     "name": "stdout",
     "output_type": "stream",
     "text": [
      "                    station   tmpf   dwpf   relh   drct   sknt   p01i   alti  \\\n",
      "valid                                                                          \n",
      "2013-07-01 00:53:00     ELN  96.98  55.94  25.51  100.0    8.0    0.0  29.96   \n",
      "2013-07-01 01:53:00     ELN  95.00  57.02  28.18   80.0    6.0    0.0  29.96   \n",
      "2013-07-01 02:53:00     ELN  89.06  60.08  37.85   90.0    6.0    0.0  29.95   \n",
      "2013-07-01 03:53:00     ELN  82.04  55.04  39.53   80.0    6.0    0.0  29.96   \n",
      "2013-07-01 04:53:00     ELN  75.02  55.04  49.81   40.0    8.0    0.0  29.97   \n",
      "\n",
      "                       mslp   vsby  \n",
      "valid                               \n",
      "2013-07-01 00:53:00  1013.0   10.0  \n",
      "2013-07-01 01:53:00  1012.7   10.0  \n",
      "2013-07-01 02:53:00  1012.8   10.0  \n",
      "2013-07-01 03:53:00  1013.0   10.0  \n",
      "2013-07-01 04:53:00  1013.6   10.0  \n",
      "9\n",
      "                      tmpf   dwpf   relh   drct   sknt   p01i   alti    mslp  \\\n",
      "valid                                                                          \n",
      "2013-07-01 00:00:00  96.98  55.94  25.51  100.0    8.0    0.0  29.96  1013.0   \n",
      "2013-07-01 01:00:00  95.00  57.02  28.18   80.0    6.0    0.0  29.96  1012.7   \n",
      "2013-07-01 02:00:00  89.06  60.08  37.85   90.0    6.0    0.0  29.95  1012.8   \n",
      "2013-07-01 03:00:00  82.04  55.04  39.53   80.0    6.0    0.0  29.96  1013.0   \n",
      "2013-07-01 04:00:00  75.02  55.04  49.81   40.0    8.0    0.0  29.97  1013.6   \n",
      "\n",
      "                      vsby  \n",
      "valid                       \n",
      "2013-07-01 00:00:00   10.0  \n",
      "2013-07-01 01:00:00   10.0  \n",
      "2013-07-01 02:00:00   10.0  \n",
      "2013-07-01 03:00:00   10.0  \n",
      "2013-07-01 04:00:00   10.0  \n",
      "                     tmpf2   dwpf2   relh2   drct2   sknt2   p01i2   alti2  \\\n",
      "valid                                                                        \n",
      "2013-07-01 00:00:00    NaN     NaN     NaN     NaN     NaN     NaN     NaN   \n",
      "2013-07-01 01:00:00    NaN     NaN     NaN     NaN     NaN     NaN     NaN   \n",
      "2013-07-01 02:00:00  96.98   55.94   25.51   100.0     8.0     0.0   29.96   \n",
      "2013-07-01 03:00:00  95.00   57.02   28.18    80.0     6.0     0.0   29.96   \n",
      "2013-07-01 04:00:00  89.06   60.08   37.85    90.0     6.0     0.0   29.95   \n",
      "\n",
      "                      mslp2   vsby2  tmpf3      ...        tmpf4   dwpf4  \\\n",
      "valid                                           ...                        \n",
      "2013-07-01 00:00:00     NaN     NaN    NaN      ...          NaN     NaN   \n",
      "2013-07-01 01:00:00     NaN     NaN    NaN      ...          NaN     NaN   \n",
      "2013-07-01 02:00:00  1013.0    10.0    NaN      ...          NaN     NaN   \n",
      "2013-07-01 03:00:00  1012.7    10.0  96.98      ...          NaN     NaN   \n",
      "2013-07-01 04:00:00  1012.8    10.0  95.00      ...        96.98   55.94   \n",
      "\n",
      "                      relh4   drct4   sknt4   p01i4   alti4   mslp4   vsby4  \\\n",
      "valid                                                                         \n",
      "2013-07-01 00:00:00     NaN     NaN     NaN     NaN     NaN     NaN     NaN   \n",
      "2013-07-01 01:00:00     NaN     NaN     NaN     NaN     NaN     NaN     NaN   \n",
      "2013-07-01 02:00:00     NaN     NaN     NaN     NaN     NaN     NaN     NaN   \n",
      "2013-07-01 03:00:00     NaN     NaN     NaN     NaN     NaN     NaN     NaN   \n",
      "2013-07-01 04:00:00   25.51   100.0     8.0     0.0   29.96  1013.0    10.0   \n",
      "\n",
      "                     EburgTargetWS  \n",
      "valid                               \n",
      "2013-07-01 00:00:00            8.0  \n",
      "2013-07-01 01:00:00            6.0  \n",
      "2013-07-01 02:00:00            6.0  \n",
      "2013-07-01 03:00:00            6.0  \n",
      "2013-07-01 04:00:00            8.0  \n",
      "\n",
      "[5 rows x 28 columns]\n"
     ]
    }
   ],
   "source": [
    "#Save off Ellensburg ASOS for baseline model\n",
    "EburgMultiLag = multiASOS[multiASOS['station']=='ELN'].copy()\n",
    "print EburgMultiLag.head()\n",
    "\n",
    "#Regularize data into hourly means\n",
    "EburgMultiLag = EburgMultiLag.resample('H', closed='right', label='left').mean()\n",
    "\n",
    "#Save off target\n",
    "EburgWS = pd.Series(EburgMultiLag[' sknt'].values, index=EburgMultiLag.index, name='EburgTargetWS')\n",
    "\n",
    "numcols = EburgMultiLag.shape[1]\n",
    "print numcols\n",
    "\n",
    "#Create multiple lags by shifting ASOS timestamp forward two, three, and four hours\n",
    "print EburgMultiLag.head()\n",
    "lags=[2,3,4]\n",
    "objs=[]\n",
    "for i in lags:\n",
    "    df = EburgMultiLag.copy()\n",
    "    df.index = df.index.shift(i)\n",
    "    objs.append(df)\n",
    "objs.append(EburgWS)\n",
    "EburgMultiLag = pd.concat(objs, join='outer', axis=1)\n",
    "\n",
    "#Rename columns\n",
    "for i in lags:\n",
    "    for j in range(numcols):\n",
    "        EburgMultiLag.columns.values[(i-2)*numcols+j] = EburgMultiLag.columns.values[(i-2)*numcols+j]+str(i)\n",
    "print EburgMultiLag.head()"
   ]
  },
  {
   "cell_type": "code",
   "execution_count": 158,
   "metadata": {
    "collapsed": false
   },
   "outputs": [
    {
     "name": "stdout",
     "output_type": "stream",
     "text": [
      "(22512, 28)\n"
     ]
    }
   ],
   "source": [
    "#Drop rows with any missing data\n",
    "EburgMultiLag.dropna(axis=0, inplace=True)\n",
    "print EburgMultiLag.shape\n",
    "\n",
    "#Use first two years for training, third year for testing\n",
    "threshidx = EburgMultiLag[EburgMultiLag.index<'2015-07-01'].shape[0]\n",
    "\n",
    "#Split data frame into X and y, train and test\n",
    "ws_train = EburgMultiLag.ix[:threshidx].as_matrix(['EburgTargetWS']).astype(np.float32)\n",
    "ws_test = EburgMultiLag.ix[threshidx:].as_matrix(['EburgTargetWS']).astype(np.float32)\n",
    "\n",
    "#Exclude target (and timestamp) from predictor matrix\n",
    "X_train = EburgMultiLag.ix[:threshidx].as_matrix(EburgMultiLag.columns[EburgMultiLag.columns != ('EburgTargetWS' or 'valid' or 'station')]).astype(np.float32)\n",
    "X_test = EburgMultiLag.ix[threshidx:].as_matrix(EburgMultiLag.columns[EburgMultiLag.columns != ('EburgTargetWS' or 'valid' or 'station')]).astype(np.float32)"
   ]
  },
  {
   "cell_type": "code",
   "execution_count": 13,
   "metadata": {
    "collapsed": false
   },
   "outputs": [],
   "source": [
    "# Train new SVR (same parameters) with multiple lags\n",
    "parameters = {'kernel':['rbf'], 'C':[0.001, 0.01, 0.1, 1, 10, 100], 'gamma':[0.00001, 0.0001, 0.001, 0.01], 'epsilon':[0.01, 0.1, 0.2]}\n",
    "svrmodel_multilag = GridSearchCV(SVR(), parameters, cv=5, iid=False)\n",
    "svrmodel_multilag.fit(X_train, np.ravel(ws_train))\n",
    "ws_hat = svrmodel_multilag.predict(X_test)\n",
    "\n",
    "# Calculate new performance metrics\n",
    "multiLagMAE = metrics.mean_absolute_error(ws_test, ws_hat)\n",
    "multiLagRMSE = np.sqrt(metrics.mean_squared_error(ws_test, ws_hat))\n",
    "multiLagBias = ws_hat.mean() - ws_test.mean()\n",
    "print multiLagMAE, multiLagRMSE, multiLagBias\n",
    "\n",
    "### 2.59234462191 3.52985508177 -0.115684936675"
   ]
  },
  {
   "cell_type": "code",
   "execution_count": 14,
   "metadata": {
    "collapsed": false
   },
   "outputs": [],
   "source": [
    "#from sklearn.externals import joblib\n",
    "#joblib.dump(svrmodel_multilag, 'multilag.pkl') "
   ]
  },
  {
   "cell_type": "code",
   "execution_count": 15,
   "metadata": {
    "collapsed": false
   },
   "outputs": [],
   "source": [
    "print svrmodel.best_params_\n",
    "###{'epsilon': 0.2, 'C': 10, 'gamma': 0.0001, 'kernel': 'rbf'}"
   ]
  },
  {
   "cell_type": "markdown",
   "metadata": {},
   "source": [
    "## 3. Multi-lagged Model Using Nearby Offsite Observations"
   ]
  },
  {
   "cell_type": "code",
   "execution_count": 16,
   "metadata": {
    "collapsed": false
   },
   "outputs": [
    {
     "name": "stdout",
     "output_type": "stream",
     "text": [
      "(26304, 36) 26304\n",
      "2013-07-01 00:00:00 2013-07-01 00:00:00 2016-06-30 23:00:00 2016-06-30 23:00:00\n"
     ]
    }
   ],
   "source": [
    "#Reshape so station data are in separate columns\n",
    "ASOSall = multiASOS.pivot(multiASOS.index, columns='station')\n",
    "#Transform to hourly data\n",
    "ASOSall = ASOSall.resample('H', closed='right', label='left').mean()\n",
    "#Determine the expected number of rows for the period of record and compare with actual\n",
    "dates = pd.date_range(ASOSall.index[0], ASOSall.index[-1]+np.timedelta64(seconds=3600), freq='H')\n",
    "print ASOSall.shape, len(dates)\n",
    "#Make sure start and end dates match\n",
    "print dates[0], ASOSall.index[0], dates[-1], ASOSall.index[-1]"
   ]
  },
  {
   "cell_type": "code",
   "execution_count": 17,
   "metadata": {
    "collapsed": false
   },
   "outputs": [
    {
     "name": "stdout",
     "output_type": "stream",
     "text": [
      "       station\n",
      "tmpf   1QW        21849\n",
      "       EAT          235\n",
      "       ELN          213\n",
      "       SMP        21462\n",
      " dwpf  1QW        21849\n",
      "       EAT          235\n",
      "       ELN          367\n",
      "       SMP        21462\n",
      " relh  1QW        21849\n",
      "       EAT          235\n",
      "       ELN          367\n",
      "       SMP        21462\n",
      " drct  1QW        21849\n",
      "       EAT         1119\n",
      "       ELN         1237\n",
      "       SMP        23741\n",
      " sknt  1QW        21849\n",
      "       EAT          335\n",
      "       ELN          316\n",
      "       SMP        21535\n",
      " p01i  1QW        21849\n",
      "       EAT          258\n",
      "       ELN          157\n",
      "       SMP        21172\n",
      " alti  1QW        21849\n",
      "       EAT          217\n",
      "       ELN          153\n",
      "       SMP        21180\n",
      " mslp  1QW        21941\n",
      "       EAT          341\n",
      "       ELN          263\n",
      "       SMP        22012\n",
      " vsby  1QW        21849\n",
      "       EAT          358\n",
      "       ELN          653\n",
      "       SMP        22630\n",
      "dtype: int64\n"
     ]
    }
   ],
   "source": [
    "#Examine number of missing records from each column\n",
    "print ASOSall.isnull().sum(axis=0)"
   ]
  },
  {
   "cell_type": "code",
   "execution_count": 18,
   "metadata": {
    "collapsed": false
   },
   "outputs": [
    {
     "name": "stdout",
     "output_type": "stream",
     "text": [
      "                    station   tmpf   dwpf   relh   drct   sknt   p01i   alti  \\\n",
      "valid                                                                          \n",
      "2013-07-01 00:53:00     RNT  91.04  59.00  34.22  320.0    4.0    0.0  29.85   \n",
      "2013-07-01 00:53:00     YKM  96.98  57.92  27.39  190.0    5.0    0.0  29.91   \n",
      "2013-07-01 00:55:00     1YT  93.92  54.32  26.42    NaN    5.0    0.0  29.93   \n",
      "2013-07-01 01:53:00     RNT  91.04  59.00  34.22  320.0    5.0    0.0  29.84   \n",
      "2013-07-01 01:53:00     YKM  96.98  57.92  27.39  170.0    3.0    0.0  29.90   \n",
      "\n",
      "                       mslp   vsby  \n",
      "valid                               \n",
      "2013-07-01 00:53:00  1011.4   10.0  \n",
      "2013-07-01 00:53:00  1011.8   10.0  \n",
      "2013-07-01 00:55:00  1011.5    9.0  \n",
      "2013-07-01 01:53:00  1011.0   10.0  \n",
      "2013-07-01 01:53:00  1011.6   10.0  \n",
      "                    station   tmpf   dwpf   relh   drct   sknt   p01i   alti  \\\n",
      "valid                                                                          \n",
      "2016-06-30 23:50:00     RNT  71.60  55.40  56.63  340.0    6.0    NaN  30.17   \n",
      "2016-06-30 23:53:00     YKM  95.00  35.06  12.27  340.0    7.0    0.0  29.92   \n",
      "2016-06-30 23:53:00     RNT  71.96  55.04  55.22  350.0    5.0    0.0  30.16   \n",
      "2016-06-30 23:55:00     RNT  71.60  55.40  56.63  330.0    5.0    NaN  30.16   \n",
      "2016-06-30 23:55:00     YKM  93.20    NaN    NaN  310.0    8.0    NaN    NaN   \n",
      "\n",
      "                       mslp   vsby  \n",
      "valid                               \n",
      "2016-06-30 23:50:00     NaN   10.0  \n",
      "2016-06-30 23:53:00  1012.1   10.0  \n",
      "2016-06-30 23:53:00  1021.9   10.0  \n",
      "2016-06-30 23:55:00     NaN   10.0  \n",
      "2016-06-30 23:55:00     NaN   10.0  \n"
     ]
    }
   ],
   "source": [
    "#Missing most of the records from 1QW and SMP. Use data from a different Yakima station instead of 1QW, and from Renton\n",
    "# municipal airport instead of SMP (sadly; predominant strong wind direction is presumably from the west)\n",
    "multiASOS2 = pd.read_csv(\"/Users/verene/Documents/UW-ML410/Project1/ASOS_Renton_Yakima.txt\",\n",
    "                        index_col=1, header=5, usecols=np.arange(0,11), parse_dates=True, na_values='M')\n",
    "multiASOS2.apply(lambda x: pd.to_numeric(x, errors='ignore'))\n",
    "print multiASOS2.head()\n",
    "print multiASOS2.tail()"
   ]
  },
  {
   "cell_type": "code",
   "execution_count": 19,
   "metadata": {
    "collapsed": false
   },
   "outputs": [
    {
     "name": "stdout",
     "output_type": "stream",
     "text": [
      "2\n"
     ]
    }
   ],
   "source": [
    "#Check for duplicates\n",
    "print (multiASOS2.groupby([multiASOS2.index, 'station']).size()>1).sum()"
   ]
  },
  {
   "cell_type": "code",
   "execution_count": 20,
   "metadata": {
    "collapsed": false
   },
   "outputs": [
    {
     "name": "stdout",
     "output_type": "stream",
     "text": [
      "0\n",
      "                    station   tmpf   dwpf   relh   drct   sknt   p01i   alti  \\\n",
      "valid                                                                          \n",
      "2013-07-01 00:53:00     RNT  91.04  59.00  34.22  320.0    4.0    0.0  29.85   \n",
      "2013-07-01 00:53:00     YKM  96.98  57.92  27.39  190.0    5.0    0.0  29.91   \n",
      "2013-07-01 00:55:00     1YT  93.92  54.32  26.42    NaN    5.0    0.0  29.93   \n",
      "2013-07-01 01:53:00     RNT  91.04  59.00  34.22  320.0    5.0    0.0  29.84   \n",
      "2013-07-01 01:53:00     YKM  96.98  57.92  27.39  170.0    3.0    0.0  29.90   \n",
      "\n",
      "                       mslp   vsby  \n",
      "valid                               \n",
      "2013-07-01 00:53:00  1011.4   10.0  \n",
      "2013-07-01 00:53:00  1011.8   10.0  \n",
      "2013-07-01 00:55:00  1011.5    9.0  \n",
      "2013-07-01 01:53:00  1011.0   10.0  \n",
      "2013-07-01 01:53:00  1011.6   10.0  \n"
     ]
    }
   ],
   "source": [
    "#Remove duplicate entries\n",
    "multiASOS2 = multiASOS2.reset_index().drop_duplicates(subset=['valid', 'station'], keep='last').set_index('valid')\n",
    "print (multiASOS2.groupby([multiASOS2.index, 'station']).size()>1).sum()\n",
    "print multiASOS2.head()"
   ]
  },
  {
   "cell_type": "code",
   "execution_count": 21,
   "metadata": {
    "collapsed": false
   },
   "outputs": [
    {
     "name": "stdout",
     "output_type": "stream",
     "text": [
      "(26304, 27) 26304\n",
      "2013-07-01 00:00:00 2013-07-01 00:00:00 2016-06-30 23:00:00 2016-06-30 23:00:00\n",
      "       station\n",
      "tmpf   1YT         3083\n",
      "       RNT          180\n",
      "       YKM          296\n",
      " dwpf  1YT         3083\n",
      "       RNT          248\n",
      "       YKM          298\n",
      " relh  1YT         3083\n",
      "       RNT          248\n",
      "       YKM          298\n",
      " drct  1YT         4724\n",
      "       RNT         1493\n",
      "       YKM         2058\n",
      " sknt  1YT         3077\n",
      "       RNT          238\n",
      "       YKM          425\n",
      " p01i  1YT         3077\n",
      "       RNT          116\n",
      "       YKM          258\n",
      " alti  1YT         3083\n",
      "       RNT          115\n",
      "       YKM          257\n",
      " mslp  1YT        26073\n",
      "       RNT          166\n",
      "       YKM          455\n",
      " vsby  1YT         3082\n",
      "       RNT          240\n",
      "       YKM          273\n",
      "dtype: int64\n"
     ]
    }
   ],
   "source": [
    "#Reshape so station data are in separate columns\n",
    "ASOSoffsite = multiASOS2.pivot(multiASOS2.index, columns='station')\n",
    "#Transform to hourly data\n",
    "ASOSoffsite = ASOSoffsite.resample('H', closed='right', label='left').mean()\n",
    "#Determine the expected number of rows for the period of record and compare with actual\n",
    "print ASOSoffsite.shape, len(dates)\n",
    "#Make sure start and end dates match\n",
    "print dates[0], ASOSoffsite.index[0], dates[-1], ASOSoffsite.index[-1]\n",
    "#Examine number of missing records from each column\n",
    "print ASOSoffsite.isnull().sum(axis=0)"
   ]
  },
  {
   "cell_type": "code",
   "execution_count": 22,
   "metadata": {
    "collapsed": false
   },
   "outputs": [
    {
     "name": "stdout",
     "output_type": "stream",
     "text": [
      "                    station   tmpf   dwpf   relh   drct   sknt   p01i   alti  \\\n",
      "valid                                                                          \n",
      "2013-07-01 00:53:00     ELN  96.98  55.94  25.51  100.0    8.0    0.0  29.96   \n",
      "2013-07-01 01:53:00     ELN  95.00  57.02  28.18   80.0    6.0    0.0  29.96   \n",
      "2013-07-01 02:53:00     ELN  89.06  60.08  37.85   90.0    6.0    0.0  29.95   \n",
      "2013-07-01 03:53:00     ELN  82.04  55.04  39.53   80.0    6.0    0.0  29.96   \n",
      "2013-07-01 04:53:00     ELN  75.02  55.04  49.81   40.0    8.0    0.0  29.97   \n",
      "\n",
      "                       mslp   vsby  \n",
      "valid                               \n",
      "2013-07-01 00:53:00  1013.0   10.0  \n",
      "2013-07-01 01:53:00  1012.7   10.0  \n",
      "2013-07-01 02:53:00  1012.8   10.0  \n",
      "2013-07-01 03:53:00  1013.0   10.0  \n",
      "2013-07-01 04:53:00  1013.6   10.0  \n"
     ]
    }
   ],
   "source": [
    "#Select out data from stations we're interested in (using raw dataframes; it's easier to select out stations this way)\n",
    "# Too much data missing from 1YT, use other Yakima station (YKM)\n",
    "tocat=[]\n",
    "for stat in ['ELN', 'EAT']:\n",
    "    tocat.append(multiASOS[multiASOS['station']==stat])\n",
    "for stat in ['RNT', 'YKM']:\n",
    "    tocat.append(multiASOS2[multiASOS2['station']==stat])\n",
    "ASOSonoff = pd.concat(tocat, join='outer', axis=0)\n",
    "print ASOSonoff.head()"
   ]
  },
  {
   "cell_type": "code",
   "execution_count": 23,
   "metadata": {
    "collapsed": false
   },
   "outputs": [],
   "source": [
    "#Reshape so station data are in separate columns\n",
    "ASOSoff3 = ASOSonoff.pivot(ASOSonoff.index, columns='station')"
   ]
  },
  {
   "cell_type": "code",
   "execution_count": 24,
   "metadata": {
    "collapsed": false
   },
   "outputs": [
    {
     "name": "stdout",
     "output_type": "stream",
     "text": [
      "['tmpf_EAT' 'tmpf_ELN' 'tmpf_RNT' 'tmpf_YKM' 'dwpf_EAT' 'dwpf_ELN'\n",
      " 'dwpf_RNT' 'dwpf_YKM' 'relh_EAT' 'relh_ELN' 'relh_RNT' 'relh_YKM'\n",
      " 'drct_EAT' 'drct_ELN' 'drct_RNT' 'drct_YKM' 'sknt_EAT' 'sknt_ELN'\n",
      " 'sknt_RNT' 'sknt_YKM' 'p01i_EAT' 'p01i_ELN' 'p01i_RNT' 'p01i_YKM'\n",
      " 'alti_EAT' 'alti_ELN' 'alti_RNT' 'alti_YKM' 'mslp_EAT' 'mslp_ELN'\n",
      " 'mslp_RNT' 'mslp_YKM' 'vsby_EAT' 'vsby_ELN' 'vsby_RNT' 'vsby_YKM']\n"
     ]
    }
   ],
   "source": [
    "#Combine multilevel columns into one level\n",
    "ASOSoff3.columns = ['_'.join(col).strip() for col in ASOSoff3.columns.values]\n",
    "print ASOSoff3.columns.values"
   ]
  },
  {
   "cell_type": "code",
   "execution_count": 25,
   "metadata": {
    "collapsed": false
   },
   "outputs": [],
   "source": [
    "#Transform to hourly data\n",
    "ASOSoff3 = ASOSoff3.resample('H', closed='right', label='left').mean()"
   ]
  },
  {
   "cell_type": "code",
   "execution_count": 26,
   "metadata": {
    "collapsed": false
   },
   "outputs": [
    {
     "name": "stdout",
     "output_type": "stream",
     "text": [
      "36\n",
      "                     tmpf_EAT  tmpf_ELN  tmpf_RNT  tmpf_YKM  dwpf_EAT  \\\n",
      "valid                                                                   \n",
      "2013-07-01 00:00:00     93.92     96.98     91.04     96.98     48.92   \n",
      "2013-07-01 01:00:00     93.02     95.00     91.04     96.98     51.08   \n",
      "2013-07-01 02:00:00     91.04     89.06     86.00     93.02     53.06   \n",
      "2013-07-01 03:00:00     82.94     82.04     82.04     91.04     53.06   \n",
      "2013-07-01 04:00:00     84.02     75.02     80.06     77.00     51.08   \n",
      "\n",
      "                     dwpf_ELN  dwpf_RNT  dwpf_YKM  relh_EAT  relh_ELN  \\\n",
      "valid                                                                   \n",
      "2013-07-01 00:00:00     55.94     59.00     57.92     21.64     25.51   \n",
      "2013-07-01 01:00:00     57.02     59.00     57.92     24.12     28.18   \n",
      "2013-07-01 02:00:00     60.08     62.96     60.98     27.60     37.85   \n",
      "2013-07-01 03:00:00     55.04     64.94     60.08     35.71     39.53   \n",
      "2013-07-01 04:00:00     55.04     62.96     64.04     32.06     49.81   \n",
      "\n",
      "                       ...     alti_RNT  alti_YKM  mslp_EAT  mslp_ELN  \\\n",
      "valid                  ...                                              \n",
      "2013-07-01 00:00:00    ...        29.85     29.91    1012.4    1013.0   \n",
      "2013-07-01 01:00:00    ...        29.84     29.90    1012.2    1012.7   \n",
      "2013-07-01 02:00:00    ...        29.84     29.91    1012.0    1012.8   \n",
      "2013-07-01 03:00:00    ...        29.85     29.91    1012.2    1013.0   \n",
      "2013-07-01 04:00:00    ...        29.87     29.92    1012.9    1013.6   \n",
      "\n",
      "                     mslp_RNT  mslp_YKM  vsby_EAT  vsby_ELN  vsby_RNT  \\\n",
      "valid                                                                   \n",
      "2013-07-01 00:00:00    1011.4    1011.8      10.0      10.0      10.0   \n",
      "2013-07-01 01:00:00    1011.0    1011.6      10.0      10.0      10.0   \n",
      "2013-07-01 02:00:00    1011.0    1011.7      10.0      10.0      10.0   \n",
      "2013-07-01 03:00:00    1011.1    1011.6      10.0      10.0      10.0   \n",
      "2013-07-01 04:00:00    1011.8    1012.4      10.0      10.0      10.0   \n",
      "\n",
      "                     vsby_YKM  \n",
      "valid                          \n",
      "2013-07-01 00:00:00      10.0  \n",
      "2013-07-01 01:00:00      10.0  \n",
      "2013-07-01 02:00:00      10.0  \n",
      "2013-07-01 03:00:00      10.0  \n",
      "2013-07-01 04:00:00      10.0  \n",
      "\n",
      "[5 rows x 36 columns]\n",
      "                     tmpf_EAT2  tmpf_ELN2  tmpf_RNT2  tmpf_YKM2  dwpf_EAT2  \\\n",
      "valid                                                                        \n",
      "2013-07-01 00:00:00        NaN        NaN        NaN        NaN        NaN   \n",
      "2013-07-01 01:00:00        NaN        NaN        NaN        NaN        NaN   \n",
      "2013-07-01 02:00:00      93.92      96.98      91.04      96.98      48.92   \n",
      "2013-07-01 03:00:00      93.02      95.00      91.04      96.98      51.08   \n",
      "2013-07-01 04:00:00      91.04      89.06      86.00      93.02      53.06   \n",
      "\n",
      "                     dwpf_ELN2  dwpf_RNT2  dwpf_YKM2  relh_EAT2  relh_ELN2  \\\n",
      "valid                                                                        \n",
      "2013-07-01 00:00:00        NaN        NaN        NaN        NaN        NaN   \n",
      "2013-07-01 01:00:00        NaN        NaN        NaN        NaN        NaN   \n",
      "2013-07-01 02:00:00      55.94      59.00      57.92      21.64      25.51   \n",
      "2013-07-01 03:00:00      57.02      59.00      57.92      24.12      28.18   \n",
      "2013-07-01 04:00:00      60.08      62.96      60.98      27.60      37.85   \n",
      "\n",
      "                         ...        alti_YKM4  mslp_EAT4  mslp_ELN4  \\\n",
      "valid                    ...                                          \n",
      "2013-07-01 00:00:00      ...              NaN        NaN        NaN   \n",
      "2013-07-01 01:00:00      ...              NaN        NaN        NaN   \n",
      "2013-07-01 02:00:00      ...              NaN        NaN        NaN   \n",
      "2013-07-01 03:00:00      ...              NaN        NaN        NaN   \n",
      "2013-07-01 04:00:00      ...            29.91     1012.4     1013.0   \n",
      "\n",
      "                     mslp_RNT4  mslp_YKM4  vsby_EAT4  vsby_ELN4  vsby_RNT4  \\\n",
      "valid                                                                        \n",
      "2013-07-01 00:00:00        NaN        NaN        NaN        NaN        NaN   \n",
      "2013-07-01 01:00:00        NaN        NaN        NaN        NaN        NaN   \n",
      "2013-07-01 02:00:00        NaN        NaN        NaN        NaN        NaN   \n",
      "2013-07-01 03:00:00        NaN        NaN        NaN        NaN        NaN   \n",
      "2013-07-01 04:00:00     1011.4     1011.8       10.0       10.0       10.0   \n",
      "\n",
      "                     vsby_YKM4  EburgTargetWS  \n",
      "valid                                          \n",
      "2013-07-01 00:00:00        NaN            8.0  \n",
      "2013-07-01 01:00:00        NaN            6.0  \n",
      "2013-07-01 02:00:00        NaN            6.0  \n",
      "2013-07-01 03:00:00        NaN            6.0  \n",
      "2013-07-01 04:00:00       10.0            8.0  \n",
      "\n",
      "[5 rows x 109 columns]\n"
     ]
    }
   ],
   "source": [
    "#Save off target\n",
    "EburgWS = pd.Series(ASOSoff3['sknt_ELN'].values, index=ASOSoff3.index, name='EburgTargetWS')\n",
    "\n",
    "numcols = ASOSoff3.shape[1]\n",
    "print numcols\n",
    "\n",
    "#Create multiple lags by shifting ASOS timestamp forward two, three, and four hours\n",
    "print ASOSoff3.head()\n",
    "lags=[2,3,4]\n",
    "objs=[]\n",
    "for i in lags:\n",
    "    df = ASOSoff3.copy()\n",
    "    df.index = df.index.shift(i)\n",
    "    objs.append(df)\n",
    "objs.append(EburgWS)\n",
    "ASOSoff3 = pd.concat(objs, join='outer', axis=1)\n",
    "\n",
    "#Rename columns\n",
    "for i in lags:\n",
    "    for j in range(numcols):\n",
    "        ASOSoff3.columns.values[(i-2)*numcols+j] = ASOSoff3.columns.values[(i-2)*numcols+j]+str(i)\n",
    "print ASOSoff3.head()"
   ]
  },
  {
   "cell_type": "code",
   "execution_count": 27,
   "metadata": {
    "collapsed": false
   },
   "outputs": [
    {
     "name": "stdout",
     "output_type": "stream",
     "text": [
      "(26308, 109)\n",
      "(15163, 109)\n"
     ]
    }
   ],
   "source": [
    "#Drop rows with missing values\n",
    "print ASOSoff3.shape\n",
    "ASOSoff3.dropna(axis=0, inplace=True)\n",
    "print ASOSoff3.shape"
   ]
  },
  {
   "cell_type": "code",
   "execution_count": 28,
   "metadata": {
    "collapsed": false
   },
   "outputs": [
    {
     "name": "stdout",
     "output_type": "stream",
     "text": [
      "0\n",
      "[[ 8.]\n",
      " [ 3.]\n",
      " [ 3.]\n",
      " [ 0.]\n",
      " [ 3.]]\n"
     ]
    }
   ],
   "source": [
    "print (ASOSoff3.groupby([ASOSoff3.index]).size()>1).sum()\n",
    "print ASOSoff3.ix[:threshidx].head().as_matrix(['EburgTargetWS'])"
   ]
  },
  {
   "cell_type": "code",
   "execution_count": 29,
   "metadata": {
    "collapsed": false
   },
   "outputs": [
    {
     "name": "stdout",
     "output_type": "stream",
     "text": [
      "9890\n"
     ]
    }
   ],
   "source": [
    "#Use first two years for training, third year for testing\n",
    "threshidx = ASOSoff3[ASOSoff3.index<'2015-07-01'].shape[0]\n",
    "print threshidx\n",
    "\n",
    "#Split data frame into X and y, train and test\n",
    "ws_train = ASOSoff3.ix[:threshidx].as_matrix(['EburgTargetWS']).astype(np.float32)\n",
    "ws_test = ASOSoff3.ix[threshidx:].as_matrix(['EburgTargetWS']).astype(np.float32)\n",
    "#Exclude target (and timestamp) from predictor matrix\n",
    "X_train = ASOSoff3.ix[:threshidx].as_matrix(ASOSoff3.columns[ASOSoff3.columns != ('EburgTargetWS' or 'valid')]).astype(np.float32)\n",
    "X_test = ASOSoff3.ix[threshidx:].as_matrix(ASOSoff3.columns[ASOSoff3.columns != ('EburgTargetWS' or 'valid')]).astype(np.float32)"
   ]
  },
  {
   "cell_type": "code",
   "execution_count": 30,
   "metadata": {
    "collapsed": false
   },
   "outputs": [],
   "source": [
    "# Train model\n",
    "svrmodel_multilagOffsite = GridSearchCV(SVR(), parameters, cv=5, iid=False)\n",
    "svrmodel_multilagOffsite.fit(X_train, np.ravel(ws_train))\n",
    "ws_hat = svrmodel_multilagOffsite.predict(X_test)"
   ]
  },
  {
   "cell_type": "code",
   "execution_count": 31,
   "metadata": {
    "collapsed": false
   },
   "outputs": [],
   "source": [
    "joblib.dump(svrmodel_multilagOffsite, 'multilagOffsiteObs.pkl')\n",
    "###print svrmodel_multilagOffsite.best_params_\n",
    "### {'epsilon': 0.2, 'C': 10, 'gamma': 1e-05, 'kernel': 'rbf'}"
   ]
  },
  {
   "cell_type": "markdown",
   "metadata": {
    "collapsed": true
   },
   "source": [
    "## 4. Binned Target Wind Speed\n",
    "\n",
    "### 4.1 Baseline model with binning"
   ]
  },
  {
   "cell_type": "code",
   "execution_count": 32,
   "metadata": {
    "collapsed": true
   },
   "outputs": [],
   "source": [
    "#Number of bins desired:\n",
    "nbins = 5"
   ]
  },
  {
   "cell_type": "code",
   "execution_count": 33,
   "metadata": {
    "collapsed": false
   },
   "outputs": [],
   "source": [
    "bins = np.percentile(EburgASOS['EburgTargetWS'], np.linspace(0,100,nbins+1))\n",
    "#Save binned wind speed with most recent lag\n",
    "EburgASOS['targetbin'] = np.digitize(EburgASOS[' sknt'], bins)\n",
    "\n",
    "threshidx = EburgASOS[EburgASOS.index<'2015-07-01'].shape[0]\n",
    "#Split data frame into X and y, train and test\n",
    "ws_train = EburgASOS.ix[:threshidx].as_matrix(['EburgTargetWS']).astype(np.float32)\n",
    "ws_test = EburgASOS.ix[threshidx:].as_matrix(['EburgTargetWS']).astype(np.float32)\n",
    "#Exclude target (and timestamp) from predictor matrix\n",
    "X_train = EburgASOS.ix[:threshidx].as_matrix(EburgASOS.columns[EburgASOS.columns != ('EburgTargetWS' or 'valid')]).astype(np.float32)\n",
    "X_test = EburgASOS.ix[threshidx:].as_matrix(EburgASOS.columns[EburgASOS.columns != ('EburgTargetWS' or 'valid')]).astype(np.float32)\n",
    "\n",
    "# Train model\n",
    "svrmodel_baselineBin = GridSearchCV(SVR(), parameters, cv=5, iid=False)\n",
    "svrmodel_baselineBin.fit(X_train, np.ravel(ws_train))\n",
    "ws_hat = svrmodel_baselineBin.predict(X_test)\n",
    "\n",
    "#Save off trained model\n",
    "joblib.dump(svrmodel_baselineBin, 'baselineBinned.pkl')\n",
    "\n",
    "# Calculate baseline performance metrics\n",
    "print metrics.mean_absolute_error(np.ravel(ws_test), np.ravel(ws_hat))\n",
    "print np.sqrt(metrics.mean_squared_error(ws_test, ws_hat))\n",
    "print ws_hat.mean() - ws_test.mean()\n",
    "print svrmodel_baselineBin.best_params_\n",
    "\n",
    "###2.65156463812\n",
    "###3.61196138801\n",
    "###-0.18667098241\n",
    "###{'epsilon': 0.2, 'C': 10, 'gamma': 0.0001, 'kernel': 'rbf'}"
   ]
  },
  {
   "cell_type": "markdown",
   "metadata": {},
   "source": [
    "### 4.2 Multi-lag model with offsite observations, binning the most recent lag of the target wind speed"
   ]
  },
  {
   "cell_type": "code",
   "execution_count": 34,
   "metadata": {
    "collapsed": false
   },
   "outputs": [
    {
     "name": "stdout",
     "output_type": "stream",
     "text": [
      "                     tmpf_EAT2  tmpf_ELN2  tmpf_RNT2  tmpf_YKM2  dwpf_EAT2  \\\n",
      "valid                                                                        \n",
      "2013-07-01 04:00:00      91.04      89.06      86.00      93.02      53.06   \n",
      "2013-07-01 05:00:00      82.94      82.04      82.04      91.04      53.06   \n",
      "2013-07-01 09:00:00      73.04      69.08      73.94      68.00      51.98   \n",
      "2013-07-01 10:00:00      75.02      66.02      73.28      66.92      55.94   \n",
      "2013-07-01 11:00:00      71.96      66.02      71.06      66.92      55.94   \n",
      "\n",
      "                     dwpf_ELN2  dwpf_RNT2  dwpf_YKM2  relh_EAT2  relh_ELN2  \\\n",
      "valid                                                                        \n",
      "2013-07-01 04:00:00      60.08      62.96      60.98      27.60      37.85   \n",
      "2013-07-01 05:00:00      55.04      64.94      60.08      35.71      39.53   \n",
      "2013-07-01 09:00:00      53.96      62.96      59.00      47.59      58.56   \n",
      "2013-07-01 10:00:00      55.04      62.42      57.02      51.47      67.69   \n",
      "2013-07-01 11:00:00      53.96      62.96      55.94      57.05      65.07   \n",
      "\n",
      "                         ...        alti_YKM4  mslp_EAT4  mslp_ELN4  \\\n",
      "valid                    ...                                          \n",
      "2013-07-01 04:00:00      ...            29.91     1012.4     1013.0   \n",
      "2013-07-01 05:00:00      ...            29.90     1012.2     1012.7   \n",
      "2013-07-01 09:00:00      ...            29.94     1013.3     1014.0   \n",
      "2013-07-01 10:00:00      ...            29.95     1013.6     1014.2   \n",
      "2013-07-01 11:00:00      ...            29.94     1013.7     1014.0   \n",
      "\n",
      "                     mslp_RNT4  mslp_YKM4  vsby_EAT4  vsby_ELN4  vsby_RNT4  \\\n",
      "valid                                                                        \n",
      "2013-07-01 04:00:00     1011.4     1011.8       10.0       10.0      10.00   \n",
      "2013-07-01 05:00:00     1011.0     1011.6       10.0       10.0      10.00   \n",
      "2013-07-01 09:00:00     1012.2     1012.9       10.0       10.0       4.00   \n",
      "2013-07-01 10:00:00     1012.9     1013.1       10.0       10.0       1.50   \n",
      "2013-07-01 11:00:00     1013.4     1013.0       10.0       10.0       1.25   \n",
      "\n",
      "                     vsby_YKM4  EburgTargetWS  \n",
      "valid                                          \n",
      "2013-07-01 04:00:00       10.0            8.0  \n",
      "2013-07-01 05:00:00       10.0            3.0  \n",
      "2013-07-01 09:00:00       10.0            3.0  \n",
      "2013-07-01 10:00:00       10.0            0.0  \n",
      "2013-07-01 11:00:00       10.0            3.0  \n",
      "\n",
      "[5 rows x 109 columns]\n",
      "[  0.   0.   4.   7.  14.  40.]\n",
      "[  0.   8.  16.  24.  32.  40.]\n",
      "2.78818985887\n",
      "3.68828419899\n",
      "-0.261326624792\n",
      "{'epsilon': 0.2, 'C': 10, 'gamma': 1e-05, 'kernel': 'rbf'}\n"
     ]
    },
    {
     "data": {
      "text/plain": [
       "['multilagOffsiteObsBinned.pkl',\n",
       " 'multilagOffsiteObsBinned.pkl_01.npy',\n",
       " 'multilagOffsiteObsBinned.pkl_02.npy',\n",
       " 'multilagOffsiteObsBinned.pkl_03.npy',\n",
       " 'multilagOffsiteObsBinned.pkl_04.npy',\n",
       " 'multilagOffsiteObsBinned.pkl_05.npy',\n",
       " 'multilagOffsiteObsBinned.pkl_06.npy',\n",
       " 'multilagOffsiteObsBinned.pkl_07.npy',\n",
       " 'multilagOffsiteObsBinned.pkl_08.npy',\n",
       " 'multilagOffsiteObsBinned.pkl_09.npy',\n",
       " 'multilagOffsiteObsBinned.pkl_10.npy',\n",
       " 'multilagOffsiteObsBinned.pkl_11.npy',\n",
       " 'multilagOffsiteObsBinned.pkl_12.npy',\n",
       " 'multilagOffsiteObsBinned.pkl_13.npy',\n",
       " 'multilagOffsiteObsBinned.pkl_14.npy',\n",
       " 'multilagOffsiteObsBinned.pkl_15.npy',\n",
       " 'multilagOffsiteObsBinned.pkl_16.npy',\n",
       " 'multilagOffsiteObsBinned.pkl_17.npy',\n",
       " 'multilagOffsiteObsBinned.pkl_18.npy',\n",
       " 'multilagOffsiteObsBinned.pkl_19.npy',\n",
       " 'multilagOffsiteObsBinned.pkl_20.npy',\n",
       " 'multilagOffsiteObsBinned.pkl_21.npy',\n",
       " 'multilagOffsiteObsBinned.pkl_22.npy',\n",
       " 'multilagOffsiteObsBinned.pkl_23.npy',\n",
       " 'multilagOffsiteObsBinned.pkl_24.npy',\n",
       " 'multilagOffsiteObsBinned.pkl_25.npy',\n",
       " 'multilagOffsiteObsBinned.pkl_26.npy',\n",
       " 'multilagOffsiteObsBinned.pkl_27.npy',\n",
       " 'multilagOffsiteObsBinned.pkl_28.npy',\n",
       " 'multilagOffsiteObsBinned.pkl_29.npy',\n",
       " 'multilagOffsiteObsBinned.pkl_30.npy',\n",
       " 'multilagOffsiteObsBinned.pkl_31.npy',\n",
       " 'multilagOffsiteObsBinned.pkl_32.npy',\n",
       " 'multilagOffsiteObsBinned.pkl_33.npy',\n",
       " 'multilagOffsiteObsBinned.pkl_34.npy',\n",
       " 'multilagOffsiteObsBinned.pkl_35.npy',\n",
       " 'multilagOffsiteObsBinned.pkl_36.npy',\n",
       " 'multilagOffsiteObsBinned.pkl_37.npy',\n",
       " 'multilagOffsiteObsBinned.pkl_38.npy',\n",
       " 'multilagOffsiteObsBinned.pkl_39.npy',\n",
       " 'multilagOffsiteObsBinned.pkl_40.npy',\n",
       " 'multilagOffsiteObsBinned.pkl_41.npy',\n",
       " 'multilagOffsiteObsBinned.pkl_42.npy',\n",
       " 'multilagOffsiteObsBinned.pkl_43.npy',\n",
       " 'multilagOffsiteObsBinned.pkl_44.npy',\n",
       " 'multilagOffsiteObsBinned.pkl_45.npy',\n",
       " 'multilagOffsiteObsBinned.pkl_46.npy',\n",
       " 'multilagOffsiteObsBinned.pkl_47.npy',\n",
       " 'multilagOffsiteObsBinned.pkl_48.npy',\n",
       " 'multilagOffsiteObsBinned.pkl_49.npy',\n",
       " 'multilagOffsiteObsBinned.pkl_50.npy',\n",
       " 'multilagOffsiteObsBinned.pkl_51.npy',\n",
       " 'multilagOffsiteObsBinned.pkl_52.npy',\n",
       " 'multilagOffsiteObsBinned.pkl_53.npy',\n",
       " 'multilagOffsiteObsBinned.pkl_54.npy',\n",
       " 'multilagOffsiteObsBinned.pkl_55.npy',\n",
       " 'multilagOffsiteObsBinned.pkl_56.npy',\n",
       " 'multilagOffsiteObsBinned.pkl_57.npy',\n",
       " 'multilagOffsiteObsBinned.pkl_58.npy',\n",
       " 'multilagOffsiteObsBinned.pkl_59.npy',\n",
       " 'multilagOffsiteObsBinned.pkl_60.npy',\n",
       " 'multilagOffsiteObsBinned.pkl_61.npy',\n",
       " 'multilagOffsiteObsBinned.pkl_62.npy',\n",
       " 'multilagOffsiteObsBinned.pkl_63.npy',\n",
       " 'multilagOffsiteObsBinned.pkl_64.npy',\n",
       " 'multilagOffsiteObsBinned.pkl_65.npy',\n",
       " 'multilagOffsiteObsBinned.pkl_66.npy',\n",
       " 'multilagOffsiteObsBinned.pkl_67.npy',\n",
       " 'multilagOffsiteObsBinned.pkl_68.npy',\n",
       " 'multilagOffsiteObsBinned.pkl_69.npy',\n",
       " 'multilagOffsiteObsBinned.pkl_70.npy',\n",
       " 'multilagOffsiteObsBinned.pkl_71.npy',\n",
       " 'multilagOffsiteObsBinned.pkl_72.npy',\n",
       " 'multilagOffsiteObsBinned.pkl_73.npy',\n",
       " 'multilagOffsiteObsBinned.pkl_74.npy',\n",
       " 'multilagOffsiteObsBinned.pkl_75.npy',\n",
       " 'multilagOffsiteObsBinned.pkl_76.npy',\n",
       " 'multilagOffsiteObsBinned.pkl_77.npy',\n",
       " 'multilagOffsiteObsBinned.pkl_78.npy',\n",
       " 'multilagOffsiteObsBinned.pkl_79.npy',\n",
       " 'multilagOffsiteObsBinned.pkl_80.npy',\n",
       " 'multilagOffsiteObsBinned.pkl_81.npy',\n",
       " 'multilagOffsiteObsBinned.pkl_82.npy']"
      ]
     },
     "execution_count": 34,
     "metadata": {},
     "output_type": "execute_result"
    }
   ],
   "source": [
    "print ASOSoff3.head()\n",
    "print np.percentile(ASOSoff3['sknt_ELN2'], np.linspace(0,100,nbins+1))\n",
    "bins = np.linspace(ASOSoff3['sknt_ELN2'].min(),ASOSoff3['sknt_ELN2'].max(),nbins+1)\n",
    "print bins\n",
    "\n",
    "#Save binned wind speed with most recent lag\n",
    "ASOSoff3['targetbin'] = np.digitize(ASOSoff3['sknt_ELN2'], bins)\n",
    "\n",
    "#Use first two years for training, third year for testing\n",
    "threshidx = ASOSoff3[ASOSoff3.index<'2015-07-01'].shape[0]\n",
    "#Split data frame into X and y, train and test\n",
    "ws_train = ASOSoff3.ix[:threshidx].as_matrix(['EburgTargetWS']).astype(np.float32)\n",
    "ws_test = ASOSoff3.ix[threshidx:].as_matrix(['EburgTargetWS']).astype(np.float32)\n",
    "#Exclude target (and timestamp) from predictor matrix\n",
    "X_train = ASOSoff3.ix[:threshidx].as_matrix(ASOSoff3.columns[ASOSoff3.columns != ('EburgTargetWS' or 'valid')]).astype(np.float32)\n",
    "X_test = ASOSoff3.ix[threshidx:].as_matrix(ASOSoff3.columns[ASOSoff3.columns != ('EburgTargetWS' or 'valid')]).astype(np.float32)\n",
    "\n",
    "# Train model\n",
    "svrmodel_multilagOffsiteBin = GridSearchCV(SVR(), parameters, cv=5, iid=False)\n",
    "svrmodel_multilagOffsiteBin.fit(X_train, np.ravel(ws_train))\n",
    "ws_hat = svrmodel_multilagOffsiteBin.predict(X_test)\n",
    "\n",
    "#Save off trained model\n",
    "joblib.dump(svrmodel_multilagOffsiteBin, 'multilagOffsiteObsBinned.pkl')\n",
    "\n",
    "# Calculate baseline performance metrics\n",
    "print metrics.mean_absolute_error(ws_test, np.ravel(ws_hat))\n",
    "print np.sqrt(metrics.mean_squared_error(ws_test, ws_hat))\n",
    "print ws_hat.mean() - ws_test.mean()\n",
    "print svrmodel_multilagOffsiteBin.best_params_\n",
    "\n",
    "#2.78818985887\n",
    "#3.68828419899\n",
    "#-0.261326624792\n",
    "#{'epsilon': 0.2, 'C': 10, 'gamma': 1e-05, 'kernel': 'rbf'}"
   ]
  },
  {
   "cell_type": "markdown",
   "metadata": {},
   "source": [
    "## 5. Feature Selection: MRMR (using MIC and correlation)"
   ]
  },
  {
   "cell_type": "code",
   "execution_count": 68,
   "metadata": {
    "collapsed": false
   },
   "outputs": [
    {
     "name": "stdout",
     "output_type": "stream",
     "text": [
      "\n"
     ]
    }
   ],
   "source": [
    "#Save binned wind speed with most recent lag\n",
    "ASOSoff3['targetbin'] = np.digitize(ASOSoff3['sknt_ELN2'], bins)\n",
    "\n",
    "#Use first two years for training, third year for testing\n",
    "threshidx = ASOSoff3[ASOSoff3.index<'2015-07-01'].shape[0]\n",
    "#Split data frame into X and y, train and test\n",
    "ws_train = ASOSoff3.ix[:threshidx].as_matrix(['EburgTargetWS']).astype(np.float32)\n",
    "ws_test = ASOSoff3.ix[threshidx:].as_matrix(['EburgTargetWS']).astype(np.float32)\n",
    "#Exclude target (and timestamp) from predictor matrix\n",
    "X_train = ASOSoff3.ix[:threshidx].as_matrix(ASOSoff3.columns[ASOSoff3.columns != ('EburgTargetWS' or 'valid')]).astype(np.float32)\n",
    "X_test = ASOSoff3.ix[threshidx:].as_matrix(ASOSoff3.columns[ASOSoff3.columns != ('EburgTargetWS' or 'valid')]).astype(np.float32)"
   ]
  },
  {
   "cell_type": "code",
   "execution_count": 77,
   "metadata": {
    "collapsed": false
   },
   "outputs": [
    {
     "name": "stdout",
     "output_type": "stream",
     "text": [
      "(109, 109)\n"
     ]
    }
   ],
   "source": [
    "cc = np.corrcoef(X_train, rowvar=0)\n",
    "print cc.shape"
   ]
  },
  {
   "cell_type": "code",
   "execution_count": 71,
   "metadata": {
    "collapsed": false
   },
   "outputs": [
    {
     "name": "stdout",
     "output_type": "stream",
     "text": [
      "110 109\n",
      "['tmpf_EAT2' 'tmpf_ELN2' 'tmpf_RNT2' 'tmpf_YKM2' 'dwpf_EAT2' 'dwpf_ELN2'\n",
      " 'dwpf_RNT2' 'dwpf_YKM2' 'relh_EAT2' 'relh_ELN2' 'relh_RNT2' 'relh_YKM2'\n",
      " 'drct_EAT2' 'drct_ELN2' 'drct_RNT2' 'drct_YKM2' 'sknt_EAT2' 'sknt_ELN2'\n",
      " 'sknt_RNT2' 'sknt_YKM2' 'p01i_EAT2' 'p01i_ELN2' 'p01i_RNT2' 'p01i_YKM2'\n",
      " 'alti_EAT2' 'alti_ELN2' 'alti_RNT2' 'alti_YKM2' 'mslp_EAT2' 'mslp_ELN2'\n",
      " 'mslp_RNT2' 'mslp_YKM2' 'vsby_EAT2' 'vsby_ELN2' 'vsby_RNT2' 'vsby_YKM2'\n",
      " 'tmpf_EAT3' 'tmpf_ELN3' 'tmpf_RNT3' 'tmpf_YKM3' 'dwpf_EAT3' 'dwpf_ELN3'\n",
      " 'dwpf_RNT3' 'dwpf_YKM3' 'relh_EAT3' 'relh_ELN3' 'relh_RNT3' 'relh_YKM3'\n",
      " 'drct_EAT3' 'drct_ELN3' 'drct_RNT3' 'drct_YKM3' 'sknt_EAT3' 'sknt_ELN3'\n",
      " 'sknt_RNT3' 'sknt_YKM3' 'p01i_EAT3' 'p01i_ELN3' 'p01i_RNT3' 'p01i_YKM3'\n",
      " 'alti_EAT3' 'alti_ELN3' 'alti_RNT3' 'alti_YKM3' 'mslp_EAT3' 'mslp_ELN3'\n",
      " 'mslp_RNT3' 'mslp_YKM3' 'vsby_EAT3' 'vsby_ELN3' 'vsby_RNT3' 'vsby_YKM3'\n",
      " 'tmpf_EAT4' 'tmpf_ELN4' 'tmpf_RNT4' 'tmpf_YKM4' 'dwpf_EAT4' 'dwpf_ELN4'\n",
      " 'dwpf_RNT4' 'dwpf_YKM4' 'relh_EAT4' 'relh_ELN4' 'relh_RNT4' 'relh_YKM4'\n",
      " 'drct_EAT4' 'drct_ELN4' 'drct_RNT4' 'drct_YKM4' 'sknt_EAT4' 'sknt_ELN4'\n",
      " 'sknt_RNT4' 'sknt_YKM4' 'p01i_EAT4' 'p01i_ELN4' 'p01i_RNT4' 'p01i_YKM4'\n",
      " 'alti_EAT4' 'alti_ELN4' 'alti_RNT4' 'alti_YKM4' 'mslp_EAT4' 'mslp_ELN4'\n",
      " 'mslp_RNT4' 'mslp_YKM4' 'vsby_EAT4' 'vsby_ELN4' 'vsby_RNT4' 'vsby_YKM4'\n",
      " 'targetbin']\n",
      "0 0.157914314084 tmpf_EAT2\n",
      "1 0.186572379768 tmpf_ELN2\n",
      "2 0.114263153759 tmpf_RNT2\n",
      "3 0.164285774612 tmpf_YKM2\n",
      "4 0.0661905418102 dwpf_EAT2\n",
      "5 0.112050242413 dwpf_ELN2\n",
      "6 0.0623631067518 dwpf_RNT2\n",
      "7 0.0684468705394 dwpf_YKM2\n",
      "8 0.206640790898 relh_EAT2\n",
      "9 0.24468576695 relh_ELN2\n",
      "10 0.137679329543 relh_RNT2\n",
      "11 0.220157134452 relh_YKM2\n",
      "12 0.100721207003 drct_EAT2\n",
      "13 0.396733355506 drct_ELN2\n",
      "14 0.0616309575072 drct_RNT2\n",
      "15 0.102310747068 drct_YKM2\n",
      "16 0.22491067064 sknt_EAT2\n",
      "17 0.520831941584 sknt_ELN2\n",
      "18 0.052221482498 sknt_RNT2\n",
      "19 0.107382794567 sknt_YKM2\n",
      "20 0.0236317526179 p01i_EAT2\n",
      "21 0.0255804088452 p01i_ELN2\n",
      "22 0.0288299693038 p01i_RNT2\n",
      "23 0.0255999292373 p01i_YKM2\n",
      "24 0.150140731062 alti_EAT2\n",
      "25 0.128768008422 alti_ELN2\n",
      "26 0.0538462143671 alti_RNT2\n",
      "27 0.125092987131 alti_YKM2\n",
      "28 0.150917255301 mslp_EAT2\n",
      "29 0.131247443892 mslp_ELN2\n",
      "30 0.052073965821 mslp_RNT2\n",
      "31 0.1310699256 mslp_YKM2\n",
      "32 0.0666529087936 vsby_EAT2\n",
      "33 0.149075572565 vsby_ELN2\n",
      "34 0.0543099434727 vsby_RNT2\n",
      "35 0.0845366079885 vsby_YKM2\n",
      "36 0.156644666488 tmpf_EAT3\n",
      "37 0.184063197533 tmpf_ELN3\n",
      "38 0.119444345936 tmpf_RNT3\n",
      "39 0.166757070976 tmpf_YKM3\n",
      "40 0.0648129509834 dwpf_EAT3\n",
      "41 0.110688466209 dwpf_ELN3\n",
      "42 0.0645523740799 dwpf_RNT3\n",
      "43 0.0699686702277 dwpf_YKM3\n",
      "44 0.201745014552 relh_EAT3\n",
      "45 0.237773220062 relh_ELN3\n",
      "46 0.139385419812 relh_RNT3\n",
      "47 0.227147317136 relh_YKM3\n",
      "48 0.0865418564945 drct_EAT3\n",
      "49 0.344080514514 drct_ELN3\n",
      "50 0.0724975927011 drct_RNT3\n",
      "51 0.095980679231 drct_YKM3\n",
      "52 0.21077415936 sknt_EAT3\n",
      "53 0.448188904439 sknt_ELN3\n",
      "54 0.057949254727 sknt_RNT3\n",
      "55 0.102826217262 sknt_YKM3\n",
      "56 0.0219825450709 p01i_EAT3\n",
      "57 0.025407410788 p01i_ELN3\n",
      "58 0.0274263463982 p01i_RNT3\n",
      "59 0.0260981001873 p01i_YKM3\n",
      "60 0.156018427885 alti_EAT3\n",
      "61 0.133519375267 alti_ELN3\n",
      "62 0.0569660006024 alti_RNT3\n",
      "63 0.129777802678 alti_YKM3\n",
      "64 0.155790107663 mslp_EAT3\n",
      "65 0.134107077181 mslp_ELN3\n",
      "66 0.0546341802581 mslp_RNT3\n",
      "67 0.13734336695 mslp_YKM3\n",
      "68 0.0609381030653 vsby_EAT3\n",
      "69 0.141723418877 vsby_ELN3\n",
      "70 0.0509869669146 vsby_RNT3\n",
      "71 0.079138965565 vsby_YKM3\n",
      "72 0.151150561694 tmpf_EAT4\n",
      "73 0.180752153293 tmpf_ELN4\n",
      "74 0.118661310734 tmpf_RNT4\n",
      "75 0.167838959878 tmpf_YKM4\n",
      "76 0.0637755308923 dwpf_EAT4\n",
      "77 0.107339463076 dwpf_ELN4\n",
      "78 0.0658900490405 dwpf_RNT4\n",
      "79 0.0691666211715 dwpf_YKM4\n",
      "80 0.196203647693 relh_EAT4\n",
      "81 0.222509196654 relh_ELN4\n",
      "82 0.138235917218 relh_RNT4\n",
      "83 0.221082864251 relh_YKM4\n",
      "84 0.0836168196042 drct_EAT4\n",
      "85 0.292768200218 drct_ELN4\n",
      "86 0.078230662812 drct_RNT4\n",
      "87 0.0890724336802 drct_YKM4\n",
      "88 0.196725245352 sknt_EAT4\n",
      "89 0.38617034249 sknt_ELN4\n",
      "90 0.0622503483763 sknt_RNT4\n",
      "91 0.0963867925765 sknt_YKM4\n",
      "92 0.0234017755765 p01i_EAT4\n",
      "93 0.0236003144668 p01i_ELN4\n",
      "94 0.0284794294351 p01i_RNT4\n",
      "95 0.0233902838929 p01i_YKM4\n",
      "96 0.156498911864 alti_EAT4\n",
      "97 0.137923573275 alti_ELN4\n",
      "98 0.0600753673899 alti_RNT4\n",
      "99 0.133783668927 alti_YKM4\n",
      "100 0.160877810691 mslp_EAT4\n",
      "101 0.142102899237 mslp_ELN4\n",
      "102 0.0569477801596 mslp_RNT4\n",
      "103 0.147456093531 mslp_YKM4\n",
      "104 0.0534648360381 vsby_EAT4\n",
      "105 0.127700001821 vsby_ELN4\n",
      "106 0.0508433181512 vsby_RNT4\n",
      "107 0.074044346316 vsby_YKM4\n",
      "108 0.508498043149 targetbin\n",
      "109 [0.15791431408353163, 0.18657237976805666, 0.1142631537589486, 0.1642857746120613, 0.06619054181018105, 0.1120502424126708, 0.06236310675177313, 0.06844687053938887, 0.2066407908981667, 0.24468576694955307, 0.137679329543201, 0.220157134451888, 0.10072120700282412, 0.3967333555056189, 0.06163095750716581, 0.1023107470682135, 0.22491067064021672, 0.5208319415835444, 0.052221482497981225, 0.10738279456668254, 0.02363175261786545, 0.025580408845239412, 0.02882996930376716, 0.025599929237285286, 0.15014073106245954, 0.12876800842243247, 0.05384621436713489, 0.12509298713121536, 0.15091725530067995, 0.13124744389168977, 0.052073965820985675, 0.13106992559997038, 0.06665290879364491, 0.14907557256464615, 0.05430994347268274, 0.08453660798853857, 0.15664466648822237, 0.18406319753329317, 0.11944434593626256, 0.16675707097629028, 0.06481295098336896, 0.11068846620947956, 0.06455237407987784, 0.0699686702277251, 0.2017450145522023, 0.23777322006229673, 0.13938541981240682, 0.22714731713569647, 0.08654185649447324, 0.34408051451446847, 0.07249759270108386, 0.09598067923104221, 0.21077415935961577, 0.44818890443917914, 0.05794925472698954, 0.10282621726167895, 0.021982545070929716, 0.025407410788008046, 0.027426346398210993, 0.026098100187313, 0.15601842788539746, 0.13351937526743493, 0.05696600060237571, 0.12977780267760705, 0.15579010766276932, 0.13410707718089127, 0.05463418025811905, 0.13734336694963703, 0.06093810306534994, 0.14172341887737594, 0.05098696691463977, 0.07913896556500756, 0.15115056169392066, 0.1807521532932933, 0.11866131073380846, 0.16783895987800534, 0.06377553089226481, 0.10733946307626123, 0.0658900490404759, 0.06916662117153256, 0.1962036476932971, 0.2225091966536096, 0.13823591721798295, 0.22108286425134988, 0.08361681960424604, 0.29276820021772576, 0.07823066281197691, 0.08907243368024835, 0.19672524535156893, 0.3861703424899334, 0.062250348376316614, 0.09638679257653306, 0.023401775576518964, 0.023600314466795554, 0.02847942943508173, 0.02339028389292254, 0.15649891186441772, 0.13792357327497365, 0.06007536738993439, 0.1337836689268523, 0.1608778106907959, 0.1421028992367559, 0.05694778015959761, 0.1474560935307822, 0.05346483603812823, 0.1277000018213924, 0.05084331815124151, 0.07404434631601488, 0.5084980431488246]\n"
     ]
    }
   ],
   "source": [
    "from minepy import MINE\n",
    "mine = MINE(alpha=0.6, c=15)\n",
    "micscores=[]\n",
    "print ASOSoff3.shape[1], X_train.shape[1]\n",
    "print ASOSoff3.columns[ASOSoff3.columns != ('EburgTargetWS' or 'valid')].values\n",
    "for j in range(X_train.shape[1]):\n",
    "    x = X_train[:,j]\n",
    "    mine.compute_score(np.ravel(x), np.ravel(ws_train))\n",
    "    print j, mine.mic(), ASOSoff3.columns[ASOSoff3.columns != ('EburgTargetWS' or 'valid')].values[j]\n",
    "    micscores.append(mine.mic())\n",
    "print len(micscores), micscores"
   ]
  },
  {
   "cell_type": "code",
   "execution_count": 78,
   "metadata": {
    "collapsed": true
   },
   "outputs": [],
   "source": [
    "for i in range(cc.shape[0]):\n",
    "    cc[i,i]=0"
   ]
  },
  {
   "cell_type": "code",
   "execution_count": 124,
   "metadata": {
    "collapsed": false
   },
   "outputs": [
    {
     "name": "stdout",
     "output_type": "stream",
     "text": [
      "(109, 109) 109\n"
     ]
    }
   ],
   "source": [
    "#Find highest MRMR, save that variable, delete variable with highest correlation\n",
    "#Repeat until you've found ~10\n",
    "numvar=15\n",
    "varnames = ASOSoff3.columns[ASOSoff3.columns != ('EburgTargetWS' or 'valid')].values\n",
    "cctest = cc.copy()\n",
    "cctest = abs(cctest)\n",
    "mictest = micscores[:]\n",
    "print cctest.shape, len(mictest)"
   ]
  },
  {
   "cell_type": "code",
   "execution_count": 125,
   "metadata": {
    "collapsed": false
   },
   "outputs": [
    {
     "name": "stdout",
     "output_type": "stream",
     "text": [
      "next highest mic score: 17, sknt_ELN2, value: 0.520831941584\n",
      "high correlation: 108, targetbin, 0.94007856341\n",
      "(107, 107) 107 (109, 109) 109\n",
      "next highest mic score: 52, sknt_ELN3, value: 0.448188904439\n",
      "(106, 106) 106 (109, 109) 109\n",
      "next highest mic score: 13, drct_ELN2, value: 0.396733355506\n",
      "(105, 105) 105 (109, 109) 109\n",
      "next highest mic score: 86, sknt_ELN4, value: 0.38617034249\n",
      "(104, 104) 104 (109, 109) 109\n",
      "next highest mic score: 47, drct_ELN3, value: 0.344080514514\n",
      "(103, 103) 103 (109, 109) 109\n",
      "next highest mic score: 81, drct_ELN4, value: 0.292768200218\n",
      "(102, 102) 102 (109, 109) 109\n",
      "next highest mic score: 9, relh_ELN2, value: 0.24468576695\n",
      "(101, 101) 101 (109, 109) 109\n",
      "next highest mic score: 42, relh_ELN3, value: 0.237773220062\n",
      "(100, 100) 100 (109, 109) 109\n",
      "next highest mic score: 43, relh_YKM3, value: 0.227147317136\n",
      "(99, 99) 99 (109, 109) 109\n",
      "next highest mic score: 14, sknt_EAT2, value: 0.22491067064\n",
      "high correlation: 15, sknt_RNT2, 0.989645072139\n",
      "high correlation: 17, p01i_EAT2, 0.993268778488\n",
      "high correlation: 18, p01i_ELN2, 0.995463519554\n",
      "high correlation: 19, p01i_RNT2, 0.993686567227\n",
      "high correlation: 21, alti_EAT2, 0.988893469336\n",
      "high correlation: 50, p01i_ELN3, 0.997842696076\n",
      "high correlation: 51, p01i_RNT3, 0.989972743193\n",
      "high correlation: 53, alti_EAT3, 0.992894698473\n",
      "high correlation: 54, alti_ELN3, 0.992955688966\n",
      "high correlation: 55, alti_RNT3, 0.993205331649\n",
      "high correlation: 57, mslp_EAT3, 0.988025071538\n",
      "high correlation: 86, p01i_YKM4, 0.993217032754\n",
      "high correlation: 87, alti_EAT4, 0.987434134162\n",
      "high correlation: 89, alti_RNT4, 0.989841663169\n",
      "high correlation: 90, alti_YKM4, 0.987924786827\n",
      "high correlation: 91, mslp_EAT4, 0.990078359274\n",
      "high correlation: 93, mslp_RNT4, 0.984614043865\n",
      "(81, 81) 81 (109, 109) 109\n",
      "next highest mic score: 62, relh_ELN4, value: 0.222509196654\n",
      "(80, 80) 80 (109, 109) 109\n",
      "next highest mic score: 63, relh_YKM4, value: 0.221082864251\n",
      "(79, 79) 79 (109, 109) 109\n",
      "next highest mic score: 10, relh_YKM2, value: 0.220157134452\n",
      "high correlation: 11, drct_EAT2, 0.929064675072\n",
      "high correlation: 13, drct_YKM2, 0.934647222994\n",
      "high correlation: 46, mslp_ELN3, 0.989500217569\n",
      "high correlation: 47, mslp_RNT3, 0.929924708526\n",
      "high correlation: 49, vsby_EAT3, 0.934853785124\n",
      "(73, 73) 73 (109, 109) 109\n",
      "next highest mic score: 37, sknt_EAT3, value: 0.21077415936\n",
      "high correlation: 0, tmpf_EAT2, 0.961501314942\n",
      "high correlation: 1, tmpf_ELN2, 0.987521424483\n",
      "high correlation: 2, tmpf_RNT2, 0.935284137143\n",
      "high correlation: 3, tmpf_YKM2, 0.959120626387\n",
      "high correlation: 36, drct_YKM3, 0.959989932195\n",
      "high correlation: 38, sknt_RNT3, 0.934547632067\n",
      "high correlation: 39, sknt_YKM3, 0.966006203424\n",
      "(65, 65) 65 (109, 109) 109\n",
      "next highest mic score: 4, relh_EAT2, value: 0.206640790898\n",
      "(64, 64) 64 (109, 109) 109\n",
      "['sknt_ELN2', 'sknt_ELN3', 'drct_ELN2', 'sknt_ELN4', 'drct_ELN3', 'drct_ELN4', 'relh_ELN2', 'relh_ELN3', 'relh_YKM3', 'sknt_EAT2', 'relh_ELN4', 'relh_YKM4', 'relh_YKM2', 'sknt_EAT3', 'relh_EAT2']\n",
      "['targetbin', 'sknt_RNT2', 'p01i_EAT2', 'p01i_ELN2', 'p01i_RNT2', 'alti_EAT2', 'p01i_ELN3', 'p01i_RNT3', 'alti_EAT3', 'alti_ELN3', 'alti_RNT3', 'mslp_EAT3', 'p01i_YKM4', 'alti_EAT4', 'alti_RNT4', 'alti_YKM4', 'mslp_EAT4', 'mslp_RNT4', 'drct_EAT2', 'drct_YKM2', 'mslp_ELN3', 'mslp_RNT3', 'vsby_EAT3', 'tmpf_EAT2', 'tmpf_ELN2', 'tmpf_RNT2', 'tmpf_YKM2', 'drct_YKM3', 'sknt_RNT3', 'sknt_YKM3']\n"
     ]
    }
   ],
   "source": [
    "best = []\n",
    "superf = []\n",
    "for n in range(numvar):\n",
    "    todel = []\n",
    "    #i=0\n",
    "    micmaxidx = mictest.index(max(mictest))\n",
    "    print \"next highest mic score: \" + str(micmaxidx) + \", \" + varnames[micmaxidx] + \", value: \" + str(mictest[micmaxidx])\n",
    "    best.append(varnames[micmaxidx])\n",
    "    # First find highly correlated variables\n",
    "    for d in range(len(cctest[micmaxidx,:])):\n",
    "        if (cctest[micmaxidx,d] > 0.9):\n",
    "            todel.append(d)\n",
    "            superf.append(varnames[d])\n",
    "            print \"high correlation: \" + str(d) + \", \" + varnames[d] + \", \" +  str(cctest[micmaxidx,d])\n",
    "    todel.append(micmaxidx)\n",
    "    #Then delete\n",
    "    todel.sort(reverse=True)\n",
    "    for k in todel:\n",
    "        cctest = np.delete(cctest, cctest[k,:], axis=0) #delete kth row\n",
    "        cctest = np.delete(cctest, cctest[:,k], axis=1) #delete kth column\n",
    "        \n",
    "    mictest = [i for j, i in enumerate(mictest) if j not in todel]\n",
    "    varnames = [i for j, i in enumerate(varnames) if j not in todel]\n",
    "    print cctest.shape, len(mictest), cc.shape, len(micscores)\n",
    "print best\n",
    "print superf"
   ]
  },
  {
   "cell_type": "code",
   "execution_count": 147,
   "metadata": {
    "collapsed": false
   },
   "outputs": [
    {
     "name": "stdout",
     "output_type": "stream",
     "text": [
      "                    station   tmpf   dwpf   relh   drct   sknt   p01i   alti  \\\n",
      "valid                                                                          \n",
      "2013-07-01 00:53:00     ELN  96.98  55.94  25.51  100.0    8.0    0.0  29.96   \n",
      "2013-07-01 01:53:00     ELN  95.00  57.02  28.18   80.0    6.0    0.0  29.96   \n",
      "2013-07-01 02:53:00     ELN  89.06  60.08  37.85   90.0    6.0    0.0  29.95   \n",
      "2013-07-01 03:53:00     ELN  82.04  55.04  39.53   80.0    6.0    0.0  29.96   \n",
      "2013-07-01 04:53:00     ELN  75.02  55.04  49.81   40.0    8.0    0.0  29.97   \n",
      "\n",
      "                       mslp   vsby  \n",
      "valid                               \n",
      "2013-07-01 00:53:00  1013.0   10.0  \n",
      "2013-07-01 01:53:00  1012.7   10.0  \n",
      "2013-07-01 02:53:00  1012.8   10.0  \n",
      "2013-07-01 03:53:00  1013.0   10.0  \n",
      "2013-07-01 04:53:00  1013.6   10.0  \n",
      "36\n",
      "                     tmpf_EAT  tmpf_ELN  tmpf_RNT  tmpf_YKM  dwpf_EAT  \\\n",
      "valid                                                                   \n",
      "2013-07-01 00:00:00     93.92     96.98     91.04     96.98     48.92   \n",
      "2013-07-01 01:00:00     93.02     95.00     91.04     96.98     51.08   \n",
      "2013-07-01 02:00:00     91.04     89.06     86.00     93.02     53.06   \n",
      "2013-07-01 03:00:00     82.94     82.04     82.04     91.04     53.06   \n",
      "2013-07-01 04:00:00     84.02     75.02     80.06     77.00     51.08   \n",
      "\n",
      "                     dwpf_ELN  dwpf_RNT  dwpf_YKM  relh_EAT  relh_ELN  \\\n",
      "valid                                                                   \n",
      "2013-07-01 00:00:00     55.94     59.00     57.92     21.64     25.51   \n",
      "2013-07-01 01:00:00     57.02     59.00     57.92     24.12     28.18   \n",
      "2013-07-01 02:00:00     60.08     62.96     60.98     27.60     37.85   \n",
      "2013-07-01 03:00:00     55.04     64.94     60.08     35.71     39.53   \n",
      "2013-07-01 04:00:00     55.04     62.96     64.04     32.06     49.81   \n",
      "\n",
      "                       ...     alti_RNT  alti_YKM  mslp_EAT  mslp_ELN  \\\n",
      "valid                  ...                                              \n",
      "2013-07-01 00:00:00    ...        29.85     29.91    1012.4    1013.0   \n",
      "2013-07-01 01:00:00    ...        29.84     29.90    1012.2    1012.7   \n",
      "2013-07-01 02:00:00    ...        29.84     29.91    1012.0    1012.8   \n",
      "2013-07-01 03:00:00    ...        29.85     29.91    1012.2    1013.0   \n",
      "2013-07-01 04:00:00    ...        29.87     29.92    1012.9    1013.6   \n",
      "\n",
      "                     mslp_RNT  mslp_YKM  vsby_EAT  vsby_ELN  vsby_RNT  \\\n",
      "valid                                                                   \n",
      "2013-07-01 00:00:00    1011.4    1011.8      10.0      10.0      10.0   \n",
      "2013-07-01 01:00:00    1011.0    1011.6      10.0      10.0      10.0   \n",
      "2013-07-01 02:00:00    1011.0    1011.7      10.0      10.0      10.0   \n",
      "2013-07-01 03:00:00    1011.1    1011.6      10.0      10.0      10.0   \n",
      "2013-07-01 04:00:00    1011.8    1012.4      10.0      10.0      10.0   \n",
      "\n",
      "                     vsby_YKM  \n",
      "valid                          \n",
      "2013-07-01 00:00:00      10.0  \n",
      "2013-07-01 01:00:00      10.0  \n",
      "2013-07-01 02:00:00      10.0  \n",
      "2013-07-01 03:00:00      10.0  \n",
      "2013-07-01 04:00:00      10.0  \n",
      "\n",
      "[5 rows x 36 columns]\n",
      "                     tmpf_EAT2  tmpf_ELN2  tmpf_RNT2  tmpf_YKM2  dwpf_EAT2  \\\n",
      "valid                                                                        \n",
      "2013-07-01 00:00:00        NaN        NaN        NaN        NaN        NaN   \n",
      "2013-07-01 01:00:00        NaN        NaN        NaN        NaN        NaN   \n",
      "2013-07-01 02:00:00      93.92      96.98      91.04      96.98      48.92   \n",
      "2013-07-01 03:00:00      93.02      95.00      91.04      96.98      51.08   \n",
      "2013-07-01 04:00:00      91.04      89.06      86.00      93.02      53.06   \n",
      "\n",
      "                     dwpf_ELN2  dwpf_RNT2  dwpf_YKM2  relh_EAT2  relh_ELN2  \\\n",
      "valid                                                                        \n",
      "2013-07-01 00:00:00        NaN        NaN        NaN        NaN        NaN   \n",
      "2013-07-01 01:00:00        NaN        NaN        NaN        NaN        NaN   \n",
      "2013-07-01 02:00:00      55.94      59.00      57.92      21.64      25.51   \n",
      "2013-07-01 03:00:00      57.02      59.00      57.92      24.12      28.18   \n",
      "2013-07-01 04:00:00      60.08      62.96      60.98      27.60      37.85   \n",
      "\n",
      "                         ...        alti_YKM4  mslp_EAT4  mslp_ELN4  \\\n",
      "valid                    ...                                          \n",
      "2013-07-01 00:00:00      ...              NaN        NaN        NaN   \n",
      "2013-07-01 01:00:00      ...              NaN        NaN        NaN   \n",
      "2013-07-01 02:00:00      ...              NaN        NaN        NaN   \n",
      "2013-07-01 03:00:00      ...              NaN        NaN        NaN   \n",
      "2013-07-01 04:00:00      ...            29.91     1012.4     1013.0   \n",
      "\n",
      "                     mslp_RNT4  mslp_YKM4  vsby_EAT4  vsby_ELN4  vsby_RNT4  \\\n",
      "valid                                                                        \n",
      "2013-07-01 00:00:00        NaN        NaN        NaN        NaN        NaN   \n",
      "2013-07-01 01:00:00        NaN        NaN        NaN        NaN        NaN   \n",
      "2013-07-01 02:00:00        NaN        NaN        NaN        NaN        NaN   \n",
      "2013-07-01 03:00:00        NaN        NaN        NaN        NaN        NaN   \n",
      "2013-07-01 04:00:00     1011.4     1011.8       10.0       10.0       10.0   \n",
      "\n",
      "                     vsby_YKM4  EburgTargetWS  \n",
      "valid                                          \n",
      "2013-07-01 00:00:00        NaN            8.0  \n",
      "2013-07-01 01:00:00        NaN            6.0  \n",
      "2013-07-01 02:00:00        NaN            6.0  \n",
      "2013-07-01 03:00:00        NaN            6.0  \n",
      "2013-07-01 04:00:00       10.0            8.0  \n",
      "\n",
      "[5 rows x 109 columns]\n",
      "(26308, 16)\n"
     ]
    }
   ],
   "source": [
    "print ASOSonoff.head()\n",
    "ASOSmrmr = ASOSonoff.pivot(ASOSonoff.index, columns='station')\n",
    "#Combine multilevel columns into one level\n",
    "ASOSmrmr.columns = ['_'.join(col).strip() for col in ASOSmrmr.columns.values]\n",
    "#Transform to hourly data\n",
    "ASOSmrmr = ASOSmrmr.resample('H', closed='right', label='left').mean()\n",
    "\n",
    "#Save off target\n",
    "EburgWS = pd.Series(ASOSmrmr['sknt_ELN'].values, index=ASOSmrmr.index, name='EburgTargetWS')\n",
    "\n",
    "numcols = ASOSmrmr.shape[1]\n",
    "print numcols\n",
    "#Create multiple lags by shifting ASOS timestamp forward two, three, and four hours\n",
    "print ASOSmrmr.head()\n",
    "lags=[2,3,4]\n",
    "objs=[]\n",
    "for i in lags:\n",
    "    df = ASOSmrmr.copy()\n",
    "    df.index = df.index.shift(i)\n",
    "    objs.append(df)\n",
    "objs.append(EburgWS)\n",
    "ASOSmrmr = pd.concat(objs, join='outer', axis=1)\n",
    "\n",
    "#Rename columns\n",
    "for i in lags:\n",
    "    for j in range(numcols):\n",
    "        ASOSmrmr.columns.values[(i-2)*numcols+j] = ASOSmrmr.columns.values[(i-2)*numcols+j]+str(i)\n",
    "print ASOSmrmr.head()\n",
    "\n",
    "best.append('EburgTargetWS')\n",
    "ASOSmrmr = ASOSmrmr[best]\n",
    "print ASOSmrmr.shape"
   ]
  },
  {
   "cell_type": "code",
   "execution_count": 148,
   "metadata": {
    "collapsed": false
   },
   "outputs": [
    {
     "name": "stdout",
     "output_type": "stream",
     "text": [
      "(26308, 16)\n",
      "(22656, 16)\n",
      "0\n"
     ]
    }
   ],
   "source": [
    "#drop rows with missing values\n",
    "print ASOSmrmr.shape\n",
    "ASOSmrmr.dropna(axis=0, inplace=True)\n",
    "print ASOSmrmr.shape\n",
    "\n",
    "#check for duplicates\n",
    "print (ASOSmrmr.groupby([ASOSmrmr.index]).size()>1).sum()"
   ]
  },
  {
   "cell_type": "code",
   "execution_count": 149,
   "metadata": {
    "collapsed": false
   },
   "outputs": [
    {
     "name": "stdout",
     "output_type": "stream",
     "text": [
      "14928\n",
      "2.62395628243\n",
      "3.55578981144\n",
      "-0.26312094925\n",
      "{'epsilon': 0.2, 'C': 100, 'gamma': 1e-05, 'kernel': 'rbf'}\n"
     ]
    },
    {
     "data": {
      "text/plain": [
       "['mrmr.pkl',\n",
       " 'mrmr.pkl_01.npy',\n",
       " 'mrmr.pkl_02.npy',\n",
       " 'mrmr.pkl_03.npy',\n",
       " 'mrmr.pkl_04.npy',\n",
       " 'mrmr.pkl_05.npy',\n",
       " 'mrmr.pkl_06.npy',\n",
       " 'mrmr.pkl_07.npy',\n",
       " 'mrmr.pkl_08.npy',\n",
       " 'mrmr.pkl_09.npy',\n",
       " 'mrmr.pkl_10.npy',\n",
       " 'mrmr.pkl_11.npy',\n",
       " 'mrmr.pkl_12.npy',\n",
       " 'mrmr.pkl_13.npy',\n",
       " 'mrmr.pkl_14.npy',\n",
       " 'mrmr.pkl_15.npy',\n",
       " 'mrmr.pkl_16.npy',\n",
       " 'mrmr.pkl_17.npy',\n",
       " 'mrmr.pkl_18.npy',\n",
       " 'mrmr.pkl_19.npy',\n",
       " 'mrmr.pkl_20.npy',\n",
       " 'mrmr.pkl_21.npy',\n",
       " 'mrmr.pkl_22.npy',\n",
       " 'mrmr.pkl_23.npy',\n",
       " 'mrmr.pkl_24.npy',\n",
       " 'mrmr.pkl_25.npy',\n",
       " 'mrmr.pkl_26.npy',\n",
       " 'mrmr.pkl_27.npy',\n",
       " 'mrmr.pkl_28.npy',\n",
       " 'mrmr.pkl_29.npy',\n",
       " 'mrmr.pkl_30.npy',\n",
       " 'mrmr.pkl_31.npy',\n",
       " 'mrmr.pkl_32.npy',\n",
       " 'mrmr.pkl_33.npy',\n",
       " 'mrmr.pkl_34.npy',\n",
       " 'mrmr.pkl_35.npy',\n",
       " 'mrmr.pkl_36.npy',\n",
       " 'mrmr.pkl_37.npy',\n",
       " 'mrmr.pkl_38.npy',\n",
       " 'mrmr.pkl_39.npy',\n",
       " 'mrmr.pkl_40.npy',\n",
       " 'mrmr.pkl_41.npy',\n",
       " 'mrmr.pkl_42.npy',\n",
       " 'mrmr.pkl_43.npy',\n",
       " 'mrmr.pkl_44.npy',\n",
       " 'mrmr.pkl_45.npy',\n",
       " 'mrmr.pkl_46.npy',\n",
       " 'mrmr.pkl_47.npy',\n",
       " 'mrmr.pkl_48.npy',\n",
       " 'mrmr.pkl_49.npy',\n",
       " 'mrmr.pkl_50.npy',\n",
       " 'mrmr.pkl_51.npy',\n",
       " 'mrmr.pkl_52.npy',\n",
       " 'mrmr.pkl_53.npy',\n",
       " 'mrmr.pkl_54.npy',\n",
       " 'mrmr.pkl_55.npy',\n",
       " 'mrmr.pkl_56.npy',\n",
       " 'mrmr.pkl_57.npy',\n",
       " 'mrmr.pkl_58.npy',\n",
       " 'mrmr.pkl_59.npy',\n",
       " 'mrmr.pkl_60.npy',\n",
       " 'mrmr.pkl_61.npy',\n",
       " 'mrmr.pkl_62.npy',\n",
       " 'mrmr.pkl_63.npy',\n",
       " 'mrmr.pkl_64.npy',\n",
       " 'mrmr.pkl_65.npy',\n",
       " 'mrmr.pkl_66.npy',\n",
       " 'mrmr.pkl_67.npy',\n",
       " 'mrmr.pkl_68.npy',\n",
       " 'mrmr.pkl_69.npy',\n",
       " 'mrmr.pkl_70.npy',\n",
       " 'mrmr.pkl_71.npy',\n",
       " 'mrmr.pkl_72.npy',\n",
       " 'mrmr.pkl_73.npy',\n",
       " 'mrmr.pkl_74.npy',\n",
       " 'mrmr.pkl_75.npy',\n",
       " 'mrmr.pkl_76.npy',\n",
       " 'mrmr.pkl_77.npy',\n",
       " 'mrmr.pkl_78.npy',\n",
       " 'mrmr.pkl_79.npy',\n",
       " 'mrmr.pkl_80.npy',\n",
       " 'mrmr.pkl_81.npy',\n",
       " 'mrmr.pkl_82.npy']"
      ]
     },
     "execution_count": 149,
     "metadata": {},
     "output_type": "execute_result"
    }
   ],
   "source": [
    "threshidx = ASOSmrmr[ASOSmrmr.index<'2015-07-01'].shape[0]\n",
    "print threshidx\n",
    "\n",
    "#Split data frame into X and y, train and test\n",
    "ws_train = ASOSmrmr.ix[:threshidx].as_matrix(['EburgTargetWS']).astype(np.float32)\n",
    "ws_test = ASOSmrmr.ix[threshidx:].as_matrix(['EburgTargetWS']).astype(np.float32)\n",
    "#Exclude target (and timestamp) from predictor matrix\n",
    "X_train = ASOSmrmr.ix[:threshidx].as_matrix(ASOSmrmr.columns[ASOSmrmr.columns != ('EburgTargetWS' or 'valid')]).astype(np.float32)\n",
    "X_test = ASOSmrmr.ix[threshidx:].as_matrix(ASOSmrmr.columns[ASOSmrmr.columns != ('EburgTargetWS' or 'valid')]).astype(np.float32)\n",
    "\n",
    "# Train model\n",
    "svrmodel_mrmr = GridSearchCV(SVR(), parameters, cv=5, iid=False)\n",
    "svrmodel_mrmr.fit(X_train, np.ravel(ws_train))\n",
    "ws_hat = svrmodel_mrmr.predict(X_test)\n",
    "\n",
    "# Calculate baseline performance metrics\n",
    "print metrics.mean_absolute_error(np.ravel(ws_test), np.ravel(ws_hat))\n",
    "print np.sqrt(metrics.mean_squared_error(ws_test, ws_hat))\n",
    "print ws_hat.mean() - ws_test.mean()\n",
    "print svrmodel_mrmr.best_params_\n",
    "joblib.dump(svrmodel_mrmr, 'mrmr.pkl')\n",
    "\n",
    "#14928\n",
    "#2.62395628243\n",
    "#3.55578981144\n",
    "#-0.26312094925\n",
    "#{'epsilon': 0.2, 'C': 100, 'gamma': 1e-05, 'kernel': 'rbf'}"
   ]
  },
  {
   "cell_type": "code",
   "execution_count": 150,
   "metadata": {
    "collapsed": false
   },
   "outputs": [
    {
     "name": "stdout",
     "output_type": "stream",
     "text": [
      "2.62369241518\n",
      "3.5554112305\n",
      "-0.27695643144\n",
      "{'epsilon': 0.25, 'C': 200, 'gamma': 1e-05, 'kernel': 'rbf'}\n"
     ]
    }
   ],
   "source": [
    "# Train model\n",
    "parameters={'kernel':['rbf'], 'epsilon':[0.15, 0.2, 0.25], 'C':[10, 50, 100, 125, 200, 500], 'gamma': [1e-5, 5e-5, 1e-6, 1e-7]}\n",
    "svrmodel_mrmr = GridSearchCV(SVR(), parameters, cv=5, iid=False)\n",
    "svrmodel_mrmr.fit(X_train, np.ravel(ws_train))\n",
    "ws_hat = svrmodel_mrmr.predict(X_test)\n",
    "\n",
    "# Calculate baseline performance metrics\n",
    "print metrics.mean_absolute_error(np.ravel(ws_test), np.ravel(ws_hat))\n",
    "print np.sqrt(metrics.mean_squared_error(ws_test, ws_hat))\n",
    "print ws_hat.mean() - ws_test.mean()\n",
    "print svrmodel_mrmr.best_params_\n",
    "\n",
    "###2.62369241518\n",
    "###3.5554112305\n",
    "###-0.27695643144\n",
    "###{'epsilon': 0.25, 'C': 200, 'gamma': 1e-05, 'kernel': 'rbf'}"
   ]
  },
  {
   "cell_type": "code",
   "execution_count": 151,
   "metadata": {
    "collapsed": false
   },
   "outputs": [
    {
     "name": "stdout",
     "output_type": "stream",
     "text": [
      "36\n",
      "                     tmpf_EAT  tmpf_ELN  tmpf_RNT  tmpf_YKM  dwpf_EAT  \\\n",
      "valid                                                                   \n",
      "2013-07-01 00:00:00     93.92     96.98     91.04     96.98     48.92   \n",
      "2013-07-01 01:00:00     93.02     95.00     91.04     96.98     51.08   \n",
      "2013-07-01 02:00:00     91.04     89.06     86.00     93.02     53.06   \n",
      "2013-07-01 03:00:00     82.94     82.04     82.04     91.04     53.06   \n",
      "2013-07-01 04:00:00     84.02     75.02     80.06     77.00     51.08   \n",
      "\n",
      "                     dwpf_ELN  dwpf_RNT  dwpf_YKM  relh_EAT  relh_ELN  \\\n",
      "valid                                                                   \n",
      "2013-07-01 00:00:00     55.94     59.00     57.92     21.64     25.51   \n",
      "2013-07-01 01:00:00     57.02     59.00     57.92     24.12     28.18   \n",
      "2013-07-01 02:00:00     60.08     62.96     60.98     27.60     37.85   \n",
      "2013-07-01 03:00:00     55.04     64.94     60.08     35.71     39.53   \n",
      "2013-07-01 04:00:00     55.04     62.96     64.04     32.06     49.81   \n",
      "\n",
      "                       ...     alti_RNT  alti_YKM  mslp_EAT  mslp_ELN  \\\n",
      "valid                  ...                                              \n",
      "2013-07-01 00:00:00    ...        29.85     29.91    1012.4    1013.0   \n",
      "2013-07-01 01:00:00    ...        29.84     29.90    1012.2    1012.7   \n",
      "2013-07-01 02:00:00    ...        29.84     29.91    1012.0    1012.8   \n",
      "2013-07-01 03:00:00    ...        29.85     29.91    1012.2    1013.0   \n",
      "2013-07-01 04:00:00    ...        29.87     29.92    1012.9    1013.6   \n",
      "\n",
      "                     mslp_RNT  mslp_YKM  vsby_EAT  vsby_ELN  vsby_RNT  \\\n",
      "valid                                                                   \n",
      "2013-07-01 00:00:00    1011.4    1011.8      10.0      10.0      10.0   \n",
      "2013-07-01 01:00:00    1011.0    1011.6      10.0      10.0      10.0   \n",
      "2013-07-01 02:00:00    1011.0    1011.7      10.0      10.0      10.0   \n",
      "2013-07-01 03:00:00    1011.1    1011.6      10.0      10.0      10.0   \n",
      "2013-07-01 04:00:00    1011.8    1012.4      10.0      10.0      10.0   \n",
      "\n",
      "                     vsby_YKM  \n",
      "valid                          \n",
      "2013-07-01 00:00:00      10.0  \n",
      "2013-07-01 01:00:00      10.0  \n",
      "2013-07-01 02:00:00      10.0  \n",
      "2013-07-01 03:00:00      10.0  \n",
      "2013-07-01 04:00:00      10.0  \n",
      "\n",
      "[5 rows x 36 columns]\n",
      "                     tmpf_EAT2  tmpf_ELN2  tmpf_RNT2  tmpf_YKM2  dwpf_EAT2  \\\n",
      "valid                                                                        \n",
      "2013-07-01 00:00:00        NaN        NaN        NaN        NaN        NaN   \n",
      "2013-07-01 01:00:00        NaN        NaN        NaN        NaN        NaN   \n",
      "2013-07-01 02:00:00      93.92      96.98      91.04      96.98      48.92   \n",
      "2013-07-01 03:00:00      93.02      95.00      91.04      96.98      51.08   \n",
      "2013-07-01 04:00:00      91.04      89.06      86.00      93.02      53.06   \n",
      "\n",
      "                     dwpf_ELN2  dwpf_RNT2  dwpf_YKM2  relh_EAT2  relh_ELN2  \\\n",
      "valid                                                                        \n",
      "2013-07-01 00:00:00        NaN        NaN        NaN        NaN        NaN   \n",
      "2013-07-01 01:00:00        NaN        NaN        NaN        NaN        NaN   \n",
      "2013-07-01 02:00:00      55.94      59.00      57.92      21.64      25.51   \n",
      "2013-07-01 03:00:00      57.02      59.00      57.92      24.12      28.18   \n",
      "2013-07-01 04:00:00      60.08      62.96      60.98      27.60      37.85   \n",
      "\n",
      "                         ...        alti_YKM4  mslp_EAT4  mslp_ELN4  \\\n",
      "valid                    ...                                          \n",
      "2013-07-01 00:00:00      ...              NaN        NaN        NaN   \n",
      "2013-07-01 01:00:00      ...              NaN        NaN        NaN   \n",
      "2013-07-01 02:00:00      ...              NaN        NaN        NaN   \n",
      "2013-07-01 03:00:00      ...              NaN        NaN        NaN   \n",
      "2013-07-01 04:00:00      ...            29.91     1012.4     1013.0   \n",
      "\n",
      "                     mslp_RNT4  mslp_YKM4  vsby_EAT4  vsby_ELN4  vsby_RNT4  \\\n",
      "valid                                                                        \n",
      "2013-07-01 00:00:00        NaN        NaN        NaN        NaN        NaN   \n",
      "2013-07-01 01:00:00        NaN        NaN        NaN        NaN        NaN   \n",
      "2013-07-01 02:00:00        NaN        NaN        NaN        NaN        NaN   \n",
      "2013-07-01 03:00:00        NaN        NaN        NaN        NaN        NaN   \n",
      "2013-07-01 04:00:00     1011.4     1011.8       10.0       10.0       10.0   \n",
      "\n",
      "                     vsby_YKM4  EburgTargetWS  \n",
      "valid                                          \n",
      "2013-07-01 00:00:00        NaN            8.0  \n",
      "2013-07-01 01:00:00        NaN            6.0  \n",
      "2013-07-01 02:00:00        NaN            6.0  \n",
      "2013-07-01 03:00:00        NaN            6.0  \n",
      "2013-07-01 04:00:00       10.0            8.0  \n",
      "\n",
      "[5 rows x 109 columns]\n",
      "(26308, 11)\n"
     ]
    }
   ],
   "source": [
    "best=best[:10]\n",
    "ASOSmrmr = ASOSonoff.pivot(ASOSonoff.index, columns='station')\n",
    "#Combine multilevel columns into one level\n",
    "ASOSmrmr.columns = ['_'.join(col).strip() for col in ASOSmrmr.columns.values]\n",
    "#Transform to hourly data\n",
    "ASOSmrmr = ASOSmrmr.resample('H', closed='right', label='left').mean()\n",
    "\n",
    "#Save off target\n",
    "EburgWS = pd.Series(ASOSmrmr['sknt_ELN'].values, index=ASOSmrmr.index, name='EburgTargetWS')\n",
    "\n",
    "numcols = ASOSmrmr.shape[1]\n",
    "print numcols\n",
    "#Create multiple lags by shifting ASOS timestamp forward two, three, and four hours\n",
    "print ASOSmrmr.head()\n",
    "lags=[2,3,4]\n",
    "objs=[]\n",
    "for i in lags:\n",
    "    df = ASOSmrmr.copy()\n",
    "    df.index = df.index.shift(i)\n",
    "    objs.append(df)\n",
    "objs.append(EburgWS)\n",
    "ASOSmrmr = pd.concat(objs, join='outer', axis=1)\n",
    "#Rename columns\n",
    "\n",
    "for i in lags:\n",
    "    for j in range(numcols):\n",
    "        ASOSmrmr.columns.values[(i-2)*numcols+j] = ASOSmrmr.columns.values[(i-2)*numcols+j]+str(i)\n",
    "print ASOSmrmr.head()\n",
    "\n",
    "best.append('EburgTargetWS')\n",
    "ASOSmrmr = ASOSmrmr[best]\n",
    "print ASOSmrmr.shape"
   ]
  },
  {
   "cell_type": "code",
   "execution_count": 152,
   "metadata": {
    "collapsed": false
   },
   "outputs": [
    {
     "name": "stdout",
     "output_type": "stream",
     "text": [
      "(26308, 11)\n",
      "(22883, 11)\n",
      "0\n",
      "15065\n",
      "2.63428387087\n",
      "3.57070157709\n",
      "-0.211807476532\n",
      "{'epsilon': 0.3, 'C': 150, 'gamma': 1e-05, 'kernel': 'rbf'}\n"
     ]
    }
   ],
   "source": [
    "#drop rows with missing values\n",
    "print ASOSmrmr.shape\n",
    "ASOSmrmr.dropna(axis=0, inplace=True)\n",
    "print ASOSmrmr.shape\n",
    "\n",
    "#check for duplicates\n",
    "print (ASOSmrmr.groupby([ASOSmrmr.index]).size()>1).sum()\n",
    "\n",
    "threshidx = ASOSmrmr[ASOSmrmr.index<'2015-07-01'].shape[0]\n",
    "print threshidx\n",
    "\n",
    "#Split data frame into X and y, train and test\n",
    "ws_train = ASOSmrmr.ix[:threshidx].as_matrix(['EburgTargetWS']).astype(np.float32)\n",
    "ws_test = ASOSmrmr.ix[threshidx:].as_matrix(['EburgTargetWS']).astype(np.float32)\n",
    "#Exclude target (and timestamp) from predictor matrix\n",
    "X_train = ASOSmrmr.ix[:threshidx].as_matrix(ASOSmrmr.columns[ASOSmrmr.columns != ('EburgTargetWS' or 'valid')]).astype(np.float32)\n",
    "X_test = ASOSmrmr.ix[threshidx:].as_matrix(ASOSmrmr.columns[ASOSmrmr.columns != ('EburgTargetWS' or 'valid')]).astype(np.float32)\n",
    "\n",
    "# Train model\n",
    "parameters={'kernel':['rbf'], 'epsilon':[0.1, 0.2, 0.25, 0.3], 'C':[10, 100, 150, 200, 500], 'gamma': [1e-3, 1e-4, 1e-5, 5e-5, 1e-6]}\n",
    "svrmodel_mrmr = GridSearchCV(SVR(), parameters, cv=5, iid=False)\n",
    "svrmodel_mrmr.fit(X_train, np.ravel(ws_train))\n",
    "ws_hat = svrmodel_mrmr.predict(X_test)\n",
    "\n",
    "# Calculate baseline performance metrics\n",
    "print metrics.mean_absolute_error(np.ravel(ws_test), np.ravel(ws_hat))\n",
    "print np.sqrt(metrics.mean_squared_error(ws_test, ws_hat))\n",
    "print ws_hat.mean() - ws_test.mean()\n",
    "print svrmodel_mrmr.best_params_\n",
    "##(26308, 11)\n",
    "##(22883, 11)\n",
    "##0\n",
    "##15065\n",
    "##2.63428387087\n",
    "##3.57070157709\n",
    "##-0.211807476532\n",
    "##{'epsilon': 0.3, 'C': 150, 'gamma': 1e-05, 'kernel': 'rbf'}"
   ]
  },
  {
   "cell_type": "markdown",
   "metadata": {},
   "source": [
    "## 6. Make persistence model, compare improvement over persistence for each model"
   ]
  },
  {
   "cell_type": "code",
   "execution_count": 41,
   "metadata": {
    "collapsed": false
   },
   "outputs": [
    {
     "name": "stdout",
     "output_type": "stream",
     "text": [
      "                      tmpf   dwpf   relh   drct   sknt   p01i   alti    mslp  \\\n",
      "valid                                                                          \n",
      "2013-07-01 00:00:00  96.98  55.94  25.51  100.0    8.0    0.0  29.96  1013.0   \n",
      "2013-07-01 01:00:00  95.00  57.02  28.18   80.0    6.0    0.0  29.96  1012.7   \n",
      "2013-07-01 02:00:00  89.06  60.08  37.85   90.0    6.0    0.0  29.95  1012.8   \n",
      "2013-07-01 03:00:00  82.04  55.04  39.53   80.0    6.0    0.0  29.96  1013.0   \n",
      "2013-07-01 04:00:00  75.02  55.04  49.81   40.0    8.0    0.0  29.97  1013.6   \n",
      "\n",
      "                      vsby  \n",
      "valid                       \n",
      "2013-07-01 00:00:00   10.0  \n",
      "2013-07-01 01:00:00   10.0  \n",
      "2013-07-01 02:00:00   10.0  \n",
      "2013-07-01 03:00:00   10.0  \n",
      "2013-07-01 04:00:00   10.0  \n",
      "                     EburgTargetWS  EburgLagWS\n",
      "valid                                         \n",
      "2013-07-01 00:00:00            NaN         8.0\n",
      "2013-07-01 01:00:00            NaN         6.0\n",
      "2013-07-01 02:00:00            8.0         6.0\n",
      "2013-07-01 03:00:00            6.0         6.0\n",
      "2013-07-01 04:00:00            6.0         8.0\n"
     ]
    }
   ],
   "source": [
    "EburgASOS = multiASOS[multiASOS['station']=='ELN'].copy()\n",
    "EburgASOS = EburgASOS.resample('H', closed='right', label='left').mean()\n",
    "print EburgASOS.head()\n",
    "EburgPers = pd.concat([EburgASOS[' sknt'], EburgASOS[' sknt']], axis=1)\n",
    "EburgPers.columns=['EburgTargetWS', 'EburgLagWS']\n",
    "EburgPers['EburgTargetWS'] = EburgPers['EburgTargetWS'].shift(2)\n",
    "print EburgPers.head()"
   ]
  },
  {
   "cell_type": "code",
   "execution_count": 42,
   "metadata": {
    "collapsed": false
   },
   "outputs": [
    {
     "name": "stdout",
     "output_type": "stream",
     "text": [
      "2.82381652422\n",
      "3.80478460183\n",
      "0.0558128425815\n",
      "{'epsilon': 0.1, 'C': 1, 'gamma': 0.01, 'kernel': 'rbf'}\n"
     ]
    }
   ],
   "source": [
    "EburgPers.dropna(axis=0, inplace=True)\n",
    "#Use first two years for training, third year for testing\n",
    "threshidx = EburgPers[EburgPers.index<'2015-07-01'].shape[0]\n",
    "#Split data frame into X and y, train and test\n",
    "ws_train = EburgPers.ix[:threshidx].as_matrix(['EburgTargetWS']).astype(np.float32)\n",
    "ws_test = EburgPers.ix[threshidx:].as_matrix(['EburgTargetWS']).astype(np.float32)\n",
    "#Exclude target (and timestamp) from predictor matrix\n",
    "X_train = EburgPers.ix[:threshidx].as_matrix(['EburgLagWS']).astype(np.float32)\n",
    "X_test = EburgPers.ix[threshidx:].as_matrix(['EburgLagWS']).astype(np.float32)\n",
    "\n",
    "# Train model\n",
    "svrmodel_persistence = GridSearchCV(SVR(), parameters, cv=5, iid=False)\n",
    "svrmodel_persistence.fit(X_train, np.ravel(ws_train))\n",
    "ws_hat = svrmodel_persistence.predict(X_test)\n",
    "\n",
    "# Calculate baseline performance metrics\n",
    "print metrics.mean_absolute_error(ws_test, np.ravel(ws_hat))\n",
    "print np.sqrt(metrics.mean_squared_error(ws_test, ws_hat))\n",
    "print ws_hat.mean() - ws_test.mean()\n",
    "print svrmodel_persistence.best_params_\n",
    "\n",
    "###2.82381652422\n",
    "###3.80478460183\n",
    "###0.0558128425815\n",
    "###{'epsilon': 0.1, 'C': 1, 'gamma': 0.01, 'kernel': 'rbf'}"
   ]
  },
  {
   "cell_type": "code",
   "execution_count": null,
   "metadata": {
    "collapsed": true
   },
   "outputs": [],
   "source": []
  }
 ],
 "metadata": {
  "kernelspec": {
   "display_name": "Python 2",
   "language": "python",
   "name": "python2"
  },
  "language_info": {
   "codemirror_mode": {
    "name": "ipython",
    "version": 2
   },
   "file_extension": ".py",
   "mimetype": "text/x-python",
   "name": "python",
   "nbconvert_exporter": "python",
   "pygments_lexer": "ipython2",
   "version": "2.7.11"
  }
 },
 "nbformat": 4,
 "nbformat_minor": 0
}
